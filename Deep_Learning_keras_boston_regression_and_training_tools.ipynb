{
  "nbformat": 4,
  "nbformat_minor": 0,
  "metadata": {
    "kernelspec": {
      "name": "python3",
      "display_name": "Python 3"
    },
    "language_info": {
      "codemirror_mode": {
        "name": "ipython",
        "version": 3
      },
      "file_extension": ".py",
      "mimetype": "text/x-python",
      "name": "python",
      "nbconvert_exporter": "python",
      "pygments_lexer": "ipython3",
      "version": "3.6.6"
    },
    "colab": {
      "name": "Deep_Learning_keras_boston_regression_and_training_tools.ipynb",
      "provenance": [],
      "include_colab_link": true
    },
    "accelerator": "GPU"
  },
  "cells": [
    {
      "cell_type": "markdown",
      "metadata": {
        "id": "view-in-github",
        "colab_type": "text"
      },
      "source": [
        "<a href=\"https://colab.research.google.com/github/RuthBerenstein/FreeSound_Audio_Tagging/blob/master/Deep_Learning_keras_boston_regression_and_training_tools.ipynb\" target=\"_parent\"><img src=\"https://colab.research.google.com/assets/colab-badge.svg\" alt=\"Open In Colab\"/></a>"
      ]
    },
    {
      "cell_type": "markdown",
      "metadata": {
        "id": "1g8ADnsTIeDD",
        "colab_type": "text"
      },
      "source": [
        "## Introduction to Deep Learning \n",
        "# Training DNN with Keras\n",
        "### boston house price regression example\n",
        "* https://www.kaggle.com/c/house-prices-advanced-regression-techniques/data\n",
        "* https://towardsdatascience.com/deep-neural-networks-for-regression-problems-81321897ca33"
      ]
    },
    {
      "cell_type": "code",
      "metadata": {
        "id": "FpDCvsayIeDE",
        "colab_type": "code",
        "colab": {}
      },
      "source": [
        "import matplotlib.pyplot as plt\n",
        "import pandas as pd\n",
        "\n",
        "import numpy as np\n",
        "import matplotlib.gridspec as gridspec\n",
        "from sklearn.metrics import accuracy_score, log_loss\n",
        "\n",
        "%matplotlib inline  "
      ],
      "execution_count": 0,
      "outputs": []
    },
    {
      "cell_type": "markdown",
      "metadata": {
        "id": "kisebjD5IeDK",
        "colab_type": "text"
      },
      "source": [
        "## Utilities"
      ]
    },
    {
      "cell_type": "code",
      "metadata": {
        "id": "yvo8kZdhIeDL",
        "colab_type": "code",
        "colab": {}
      },
      "source": [
        "from sklearn.metrics import accuracy_score\n",
        "from sklearn.metrics import confusion_matrix\n",
        "from sklearn.metrics import classification_report\n",
        "from sklearn.metrics import cohen_kappa_score\n",
        "\n",
        "def print_stats(ytest, ypred):\n",
        "    \n",
        "    print(\"Accuracy: {:.5f}, Cohen's Kappa Score: {:.5f}\".format(\n",
        "        accuracy_score(ytest, ypred), \n",
        "        cohen_kappa_score(ytest, ypred, weights=\"quadratic\")))\n",
        "    print(\"Confusion Matrix:\")\n",
        "    print(confusion_matrix(ytest, ypred))\n",
        "    print(\"Classification Report:\")\n",
        "    print(classification_report(ytest, ypred))"
      ],
      "execution_count": 0,
      "outputs": []
    },
    {
      "cell_type": "code",
      "metadata": {
        "id": "hCkCFNvFIeDP",
        "colab_type": "code",
        "colab": {}
      },
      "source": [
        "def drow_history_list(history_list, history_names=None,  metric=None):\n",
        "    \n",
        "    if metric is None:\n",
        "        metric = 'loss'\n",
        "        \n",
        "    leg = []\n",
        "    if history_names is not None:\n",
        "        for n in history_names:\n",
        "            leg.append('train ' + n)\n",
        "            leg.append('test ' + n)\n",
        "    else:\n",
        "        for n in range(len(history_list)):\n",
        "            leg.append('train ' + str(n))\n",
        "            leg.append('test ' + str(n))\n",
        "            \n",
        "    for hist in history_list:\n",
        "        \n",
        "        plt.plot(hist.history[metric])\n",
        "        plt.plot(hist.history['val_'+ metric], '--', linewidth=2)\n",
        "        \n",
        "        \n",
        "    plt.title('model '+metric)\n",
        "    plt.ylabel(metric)\n",
        "    plt.xlabel('epoch')\n",
        "    plt.legend(leg, loc='best')\n",
        "    plt.show()  "
      ],
      "execution_count": 0,
      "outputs": []
    },
    {
      "cell_type": "code",
      "metadata": {
        "id": "dspqhx6oIeDR",
        "colab_type": "code",
        "colab": {}
      },
      "source": [
        "def drow_history(history, metric, i_start=0):\n",
        "    if metric is None:\n",
        "        metric = 'loss'\n",
        "    plt.plot(history.history[metric][i_start:])\n",
        "    plt.plot(history.history['val_'+ metric][i_start:])\n",
        "    plt.title('model '+metric)\n",
        "    plt.ylabel(metric)\n",
        "    plt.xlabel('epoch')\n",
        "    plt.legend(['train', 'test'], loc='upper left')\n",
        "    plt.show()    "
      ],
      "execution_count": 0,
      "outputs": []
    },
    {
      "cell_type": "code",
      "metadata": {
        "id": "qieYYnK8IeDT",
        "colab_type": "code",
        "colab": {}
      },
      "source": [
        "import keras\n",
        "# Keras has many build in data sets\n",
        "from keras.datasets import mnist\n",
        "# Sequential is the basic feed forward neural network (FFN)\n",
        "from keras.models import Sequential\n",
        "# Dense is fully connected layer\n",
        "# Dropout is a \"noising\" layer, to prevent over feet.\n",
        "from keras.layers import Dense, Dropout\n",
        "# Read about optimizers in keras documentation\n",
        "from keras.optimizers import RMSprop\n",
        "from keras import optimizers"
      ],
      "execution_count": 0,
      "outputs": []
    },
    {
      "cell_type": "markdown",
      "metadata": {
        "id": "DSyoi-5RIeDY",
        "colab_type": "text"
      },
      "source": [
        "## Read data and Pre-process"
      ]
    },
    {
      "cell_type": "code",
      "metadata": {
        "id": "ErDJmBtRIeDZ",
        "colab_type": "code",
        "colab": {}
      },
      "source": [
        "from sklearn.datasets import make_moons, make_circles, make_classification\n",
        "from sklearn.preprocessing import StandardScaler, MaxAbsScaler\n",
        "from sklearn.model_selection import train_test_split\n",
        "from matplotlib.colors import ListedColormap\n",
        "from sklearn.metrics import accuracy_score"
      ],
      "execution_count": 0,
      "outputs": []
    },
    {
      "cell_type": "markdown",
      "metadata": {
        "id": "jcIqqwf9IeDb",
        "colab_type": "text"
      },
      "source": [
        "Data fields\n",
        "* Here's a brief version of what you'll find in the data description file.\n",
        "\n",
        "* SalePrice - the property's sale price in dollars. This is the target variable that you're trying to predict.\n",
        "* MSSubClass: The building class\n",
        "* MSZoning: The general zoning classification\n",
        "* LotFrontage: Linear feet of street connected to property\n",
        "* LotArea: Lot size in square feet\n",
        "* Street: Type of road access\n",
        "* Alley: Type of alley access\n",
        "* LotShape: General shape of property\n",
        "* LandContour: Flatness of the property\n",
        "* Utilities: Type of utilities available\n",
        "* LotConfig: Lot configuration\n",
        "* LandSlope: Slope of property\n",
        "* Neighborhood: Physical locations within Ames city limits\n",
        "* Condition1: Proximity to main road or railroad\n",
        "* Condition2: Proximity to main road or railroad (if a second is present)\n",
        "* BldgType: Type of dwelling\n",
        "* HouseStyle: Style of dwelling\n",
        "* OverallQual: Overall material and finish quality\n",
        "* OverallCond: Overall condition rating\n",
        "* YearBuilt: Original construction date\n",
        "* YearRemodAdd: Remodel date\n",
        "* RoofStyle: Type of roof\n",
        "* RoofMatl: Roof material\n",
        "* Exterior1st: Exterior covering on house\n",
        "* Exterior2nd: Exterior covering on house (if more than one material)\n",
        "* MasVnrType: Masonry veneer type\n",
        "* MasVnrArea: Masonry veneer area in square feet\n",
        "* ExterQual: Exterior material quality\n",
        "* ExterCond: Present condition of the material on the exterior\n",
        "* Foundation: Type of foundation\n",
        "* BsmtQual: Height of the basement\n",
        "* BsmtCond: General condition of the basement\n",
        "* BsmtExposure: Walkout or garden level basement walls\n",
        "* BsmtFinType1: Quality of basement finished area\n",
        "* BsmtFinSF1: Type 1 finished square feet\n",
        "* BsmtFinType2: Quality of second finished area (if present)\n",
        "* BsmtFinSF2: Type 2 finished square feet\n",
        "* BsmtUnfSF: Unfinished square feet of basement area\n",
        "* TotalBsmtSF: Total square feet of basement area\n",
        "* Heating: Type of heating\n",
        "* HeatingQC: Heating quality and condition\n",
        "* CentralAir: Central air conditioning\n",
        "* Electrical: Electrical system\n",
        "* 1stFlrSF: First Floor square feet\n",
        "* 2ndFlrSF: Second floor square feet\n",
        "* LowQualFinSF: Low quality finished square feet (all floors)\n",
        "* GrLivArea: Above grade (ground) living area square feet\n",
        "* BsmtFullBath: Basement full bathrooms\n",
        "* BsmtHalfBath: Basement half bathrooms\n",
        "* FullBath: Full bathrooms above grade\n",
        "* HalfBath: Half baths above grade\n",
        "* Bedroom: Number of bedrooms above basement level\n",
        "* Kitchen: Number of kitchens\n",
        "* KitchenQual: Kitchen quality\n",
        "* TotRmsAbvGrd: Total rooms above grade (does not include bathrooms)\n",
        "* Functional: Home functionality rating\n",
        "* Fireplaces: Number of fireplaces\n",
        "* FireplaceQu: Fireplace quality\n",
        "* GarageType: Garage location\n",
        "* GarageYrBlt: Year garage was built\n",
        "* GarageFinish: Interior finish of the garage\n",
        "* GarageCars: Size of garage in car capacity\n",
        "* GarageArea: Size of garage in square feet\n",
        "* GarageQual: Garage quality\n",
        "* GarageCond: Garage condition\n",
        "* PavedDrive: Paved driveway\n",
        "* WoodDeckSF: Wood deck area in square feet\n",
        "* OpenPorchSF: Open porch area in square feet\n",
        "* EnclosedPorch: Enclosed porch area in square feet\n",
        "* 3SsnPorch: Three season porch area in square feet\n",
        "* ScreenPorch: Screen porch area in square feet\n",
        "* PoolArea: Pool area in square feet\n",
        "* PoolQC: Pool quality\n",
        "* Fence: Fence quality\n",
        "* MiscFeature: Miscellaneous feature not covered in other categories\n",
        "* MiscVal: $Value of miscellaneous feature\n",
        "* MoSold: Month Sold\n",
        "* YrSold: Year Sold\n",
        "* SaleType: Type of sale\n",
        "* SaleCondition: Condition of sale"
      ]
    },
    {
      "cell_type": "code",
      "metadata": {
        "id": "TPuILN0qJSEy",
        "colab_type": "code",
        "outputId": "ab60b800-f5aa-4c7c-dfb3-d9f7fd6e05e9",
        "colab": {
          "base_uri": "https://localhost:8080/",
          "height": 104
        }
      },
      "source": [
        "import os\n",
        "# DATA_IN_KAGGLE:\n",
        "os.environ['KAGGLE_USERNAME']='ruthberenstein' #xxxxxx\n",
        "os.environ['KAGGLE_KEY']='31d8b00ec5cc364d42134cbd6da6aa04' #xxxxxx\n",
        "\n",
        "!kaggle competitions download -c house-prices-advanced-regression-techniques # api copied from kaggle"
      ],
      "execution_count": 32,
      "outputs": [
        {
          "output_type": "stream",
          "text": [
            "Warning: Looks like you're using an outdated API Version, please consider updating (server 1.5.6 / client 1.5.4)\n",
            "sample_submission.csv: Skipping, found more recently modified local copy (use --force to force download)\n",
            "test.csv: Skipping, found more recently modified local copy (use --force to force download)\n",
            "train.csv: Skipping, found more recently modified local copy (use --force to force download)\n",
            "data_description.txt: Skipping, found more recently modified local copy (use --force to force download)\n"
          ],
          "name": "stdout"
        }
      ]
    },
    {
      "cell_type": "code",
      "metadata": {
        "id": "6YDb1fbQKACI",
        "colab_type": "code",
        "outputId": "e1686274-2e3c-4cf5-d247-981d24c72006",
        "colab": {
          "base_uri": "https://localhost:8080/",
          "height": 35
        }
      },
      "source": [
        "!ls"
      ],
      "execution_count": 33,
      "outputs": [
        {
          "output_type": "stream",
          "text": [
            "data_description.txt  sample_data  sample_submission.csv  test.csv  train.csv\n"
          ],
          "name": "stdout"
        }
      ]
    },
    {
      "cell_type": "code",
      "metadata": {
        "id": "gVDV2xatIeDc",
        "colab_type": "code",
        "outputId": "976baa87-1018-4909-a1d2-9f7373d80f4a",
        "colab": {
          "base_uri": "https://localhost:8080/",
          "height": 251
        }
      },
      "source": [
        "train = pd.read_csv('train.csv')\n",
        "train.head()"
      ],
      "execution_count": 34,
      "outputs": [
        {
          "output_type": "execute_result",
          "data": {
            "text/html": [
              "<div>\n",
              "<style scoped>\n",
              "    .dataframe tbody tr th:only-of-type {\n",
              "        vertical-align: middle;\n",
              "    }\n",
              "\n",
              "    .dataframe tbody tr th {\n",
              "        vertical-align: top;\n",
              "    }\n",
              "\n",
              "    .dataframe thead th {\n",
              "        text-align: right;\n",
              "    }\n",
              "</style>\n",
              "<table border=\"1\" class=\"dataframe\">\n",
              "  <thead>\n",
              "    <tr style=\"text-align: right;\">\n",
              "      <th></th>\n",
              "      <th>Id</th>\n",
              "      <th>MSSubClass</th>\n",
              "      <th>MSZoning</th>\n",
              "      <th>LotFrontage</th>\n",
              "      <th>LotArea</th>\n",
              "      <th>Street</th>\n",
              "      <th>Alley</th>\n",
              "      <th>LotShape</th>\n",
              "      <th>LandContour</th>\n",
              "      <th>Utilities</th>\n",
              "      <th>LotConfig</th>\n",
              "      <th>LandSlope</th>\n",
              "      <th>Neighborhood</th>\n",
              "      <th>Condition1</th>\n",
              "      <th>Condition2</th>\n",
              "      <th>BldgType</th>\n",
              "      <th>HouseStyle</th>\n",
              "      <th>OverallQual</th>\n",
              "      <th>OverallCond</th>\n",
              "      <th>YearBuilt</th>\n",
              "      <th>YearRemodAdd</th>\n",
              "      <th>RoofStyle</th>\n",
              "      <th>RoofMatl</th>\n",
              "      <th>Exterior1st</th>\n",
              "      <th>Exterior2nd</th>\n",
              "      <th>MasVnrType</th>\n",
              "      <th>MasVnrArea</th>\n",
              "      <th>ExterQual</th>\n",
              "      <th>ExterCond</th>\n",
              "      <th>Foundation</th>\n",
              "      <th>BsmtQual</th>\n",
              "      <th>BsmtCond</th>\n",
              "      <th>BsmtExposure</th>\n",
              "      <th>BsmtFinType1</th>\n",
              "      <th>BsmtFinSF1</th>\n",
              "      <th>BsmtFinType2</th>\n",
              "      <th>BsmtFinSF2</th>\n",
              "      <th>BsmtUnfSF</th>\n",
              "      <th>TotalBsmtSF</th>\n",
              "      <th>Heating</th>\n",
              "      <th>...</th>\n",
              "      <th>CentralAir</th>\n",
              "      <th>Electrical</th>\n",
              "      <th>1stFlrSF</th>\n",
              "      <th>2ndFlrSF</th>\n",
              "      <th>LowQualFinSF</th>\n",
              "      <th>GrLivArea</th>\n",
              "      <th>BsmtFullBath</th>\n",
              "      <th>BsmtHalfBath</th>\n",
              "      <th>FullBath</th>\n",
              "      <th>HalfBath</th>\n",
              "      <th>BedroomAbvGr</th>\n",
              "      <th>KitchenAbvGr</th>\n",
              "      <th>KitchenQual</th>\n",
              "      <th>TotRmsAbvGrd</th>\n",
              "      <th>Functional</th>\n",
              "      <th>Fireplaces</th>\n",
              "      <th>FireplaceQu</th>\n",
              "      <th>GarageType</th>\n",
              "      <th>GarageYrBlt</th>\n",
              "      <th>GarageFinish</th>\n",
              "      <th>GarageCars</th>\n",
              "      <th>GarageArea</th>\n",
              "      <th>GarageQual</th>\n",
              "      <th>GarageCond</th>\n",
              "      <th>PavedDrive</th>\n",
              "      <th>WoodDeckSF</th>\n",
              "      <th>OpenPorchSF</th>\n",
              "      <th>EnclosedPorch</th>\n",
              "      <th>3SsnPorch</th>\n",
              "      <th>ScreenPorch</th>\n",
              "      <th>PoolArea</th>\n",
              "      <th>PoolQC</th>\n",
              "      <th>Fence</th>\n",
              "      <th>MiscFeature</th>\n",
              "      <th>MiscVal</th>\n",
              "      <th>MoSold</th>\n",
              "      <th>YrSold</th>\n",
              "      <th>SaleType</th>\n",
              "      <th>SaleCondition</th>\n",
              "      <th>SalePrice</th>\n",
              "    </tr>\n",
              "  </thead>\n",
              "  <tbody>\n",
              "    <tr>\n",
              "      <th>0</th>\n",
              "      <td>1</td>\n",
              "      <td>60</td>\n",
              "      <td>RL</td>\n",
              "      <td>65.0</td>\n",
              "      <td>8450</td>\n",
              "      <td>Pave</td>\n",
              "      <td>NaN</td>\n",
              "      <td>Reg</td>\n",
              "      <td>Lvl</td>\n",
              "      <td>AllPub</td>\n",
              "      <td>Inside</td>\n",
              "      <td>Gtl</td>\n",
              "      <td>CollgCr</td>\n",
              "      <td>Norm</td>\n",
              "      <td>Norm</td>\n",
              "      <td>1Fam</td>\n",
              "      <td>2Story</td>\n",
              "      <td>7</td>\n",
              "      <td>5</td>\n",
              "      <td>2003</td>\n",
              "      <td>2003</td>\n",
              "      <td>Gable</td>\n",
              "      <td>CompShg</td>\n",
              "      <td>VinylSd</td>\n",
              "      <td>VinylSd</td>\n",
              "      <td>BrkFace</td>\n",
              "      <td>196.0</td>\n",
              "      <td>Gd</td>\n",
              "      <td>TA</td>\n",
              "      <td>PConc</td>\n",
              "      <td>Gd</td>\n",
              "      <td>TA</td>\n",
              "      <td>No</td>\n",
              "      <td>GLQ</td>\n",
              "      <td>706</td>\n",
              "      <td>Unf</td>\n",
              "      <td>0</td>\n",
              "      <td>150</td>\n",
              "      <td>856</td>\n",
              "      <td>GasA</td>\n",
              "      <td>...</td>\n",
              "      <td>Y</td>\n",
              "      <td>SBrkr</td>\n",
              "      <td>856</td>\n",
              "      <td>854</td>\n",
              "      <td>0</td>\n",
              "      <td>1710</td>\n",
              "      <td>1</td>\n",
              "      <td>0</td>\n",
              "      <td>2</td>\n",
              "      <td>1</td>\n",
              "      <td>3</td>\n",
              "      <td>1</td>\n",
              "      <td>Gd</td>\n",
              "      <td>8</td>\n",
              "      <td>Typ</td>\n",
              "      <td>0</td>\n",
              "      <td>NaN</td>\n",
              "      <td>Attchd</td>\n",
              "      <td>2003.0</td>\n",
              "      <td>RFn</td>\n",
              "      <td>2</td>\n",
              "      <td>548</td>\n",
              "      <td>TA</td>\n",
              "      <td>TA</td>\n",
              "      <td>Y</td>\n",
              "      <td>0</td>\n",
              "      <td>61</td>\n",
              "      <td>0</td>\n",
              "      <td>0</td>\n",
              "      <td>0</td>\n",
              "      <td>0</td>\n",
              "      <td>NaN</td>\n",
              "      <td>NaN</td>\n",
              "      <td>NaN</td>\n",
              "      <td>0</td>\n",
              "      <td>2</td>\n",
              "      <td>2008</td>\n",
              "      <td>WD</td>\n",
              "      <td>Normal</td>\n",
              "      <td>208500</td>\n",
              "    </tr>\n",
              "    <tr>\n",
              "      <th>1</th>\n",
              "      <td>2</td>\n",
              "      <td>20</td>\n",
              "      <td>RL</td>\n",
              "      <td>80.0</td>\n",
              "      <td>9600</td>\n",
              "      <td>Pave</td>\n",
              "      <td>NaN</td>\n",
              "      <td>Reg</td>\n",
              "      <td>Lvl</td>\n",
              "      <td>AllPub</td>\n",
              "      <td>FR2</td>\n",
              "      <td>Gtl</td>\n",
              "      <td>Veenker</td>\n",
              "      <td>Feedr</td>\n",
              "      <td>Norm</td>\n",
              "      <td>1Fam</td>\n",
              "      <td>1Story</td>\n",
              "      <td>6</td>\n",
              "      <td>8</td>\n",
              "      <td>1976</td>\n",
              "      <td>1976</td>\n",
              "      <td>Gable</td>\n",
              "      <td>CompShg</td>\n",
              "      <td>MetalSd</td>\n",
              "      <td>MetalSd</td>\n",
              "      <td>None</td>\n",
              "      <td>0.0</td>\n",
              "      <td>TA</td>\n",
              "      <td>TA</td>\n",
              "      <td>CBlock</td>\n",
              "      <td>Gd</td>\n",
              "      <td>TA</td>\n",
              "      <td>Gd</td>\n",
              "      <td>ALQ</td>\n",
              "      <td>978</td>\n",
              "      <td>Unf</td>\n",
              "      <td>0</td>\n",
              "      <td>284</td>\n",
              "      <td>1262</td>\n",
              "      <td>GasA</td>\n",
              "      <td>...</td>\n",
              "      <td>Y</td>\n",
              "      <td>SBrkr</td>\n",
              "      <td>1262</td>\n",
              "      <td>0</td>\n",
              "      <td>0</td>\n",
              "      <td>1262</td>\n",
              "      <td>0</td>\n",
              "      <td>1</td>\n",
              "      <td>2</td>\n",
              "      <td>0</td>\n",
              "      <td>3</td>\n",
              "      <td>1</td>\n",
              "      <td>TA</td>\n",
              "      <td>6</td>\n",
              "      <td>Typ</td>\n",
              "      <td>1</td>\n",
              "      <td>TA</td>\n",
              "      <td>Attchd</td>\n",
              "      <td>1976.0</td>\n",
              "      <td>RFn</td>\n",
              "      <td>2</td>\n",
              "      <td>460</td>\n",
              "      <td>TA</td>\n",
              "      <td>TA</td>\n",
              "      <td>Y</td>\n",
              "      <td>298</td>\n",
              "      <td>0</td>\n",
              "      <td>0</td>\n",
              "      <td>0</td>\n",
              "      <td>0</td>\n",
              "      <td>0</td>\n",
              "      <td>NaN</td>\n",
              "      <td>NaN</td>\n",
              "      <td>NaN</td>\n",
              "      <td>0</td>\n",
              "      <td>5</td>\n",
              "      <td>2007</td>\n",
              "      <td>WD</td>\n",
              "      <td>Normal</td>\n",
              "      <td>181500</td>\n",
              "    </tr>\n",
              "    <tr>\n",
              "      <th>2</th>\n",
              "      <td>3</td>\n",
              "      <td>60</td>\n",
              "      <td>RL</td>\n",
              "      <td>68.0</td>\n",
              "      <td>11250</td>\n",
              "      <td>Pave</td>\n",
              "      <td>NaN</td>\n",
              "      <td>IR1</td>\n",
              "      <td>Lvl</td>\n",
              "      <td>AllPub</td>\n",
              "      <td>Inside</td>\n",
              "      <td>Gtl</td>\n",
              "      <td>CollgCr</td>\n",
              "      <td>Norm</td>\n",
              "      <td>Norm</td>\n",
              "      <td>1Fam</td>\n",
              "      <td>2Story</td>\n",
              "      <td>7</td>\n",
              "      <td>5</td>\n",
              "      <td>2001</td>\n",
              "      <td>2002</td>\n",
              "      <td>Gable</td>\n",
              "      <td>CompShg</td>\n",
              "      <td>VinylSd</td>\n",
              "      <td>VinylSd</td>\n",
              "      <td>BrkFace</td>\n",
              "      <td>162.0</td>\n",
              "      <td>Gd</td>\n",
              "      <td>TA</td>\n",
              "      <td>PConc</td>\n",
              "      <td>Gd</td>\n",
              "      <td>TA</td>\n",
              "      <td>Mn</td>\n",
              "      <td>GLQ</td>\n",
              "      <td>486</td>\n",
              "      <td>Unf</td>\n",
              "      <td>0</td>\n",
              "      <td>434</td>\n",
              "      <td>920</td>\n",
              "      <td>GasA</td>\n",
              "      <td>...</td>\n",
              "      <td>Y</td>\n",
              "      <td>SBrkr</td>\n",
              "      <td>920</td>\n",
              "      <td>866</td>\n",
              "      <td>0</td>\n",
              "      <td>1786</td>\n",
              "      <td>1</td>\n",
              "      <td>0</td>\n",
              "      <td>2</td>\n",
              "      <td>1</td>\n",
              "      <td>3</td>\n",
              "      <td>1</td>\n",
              "      <td>Gd</td>\n",
              "      <td>6</td>\n",
              "      <td>Typ</td>\n",
              "      <td>1</td>\n",
              "      <td>TA</td>\n",
              "      <td>Attchd</td>\n",
              "      <td>2001.0</td>\n",
              "      <td>RFn</td>\n",
              "      <td>2</td>\n",
              "      <td>608</td>\n",
              "      <td>TA</td>\n",
              "      <td>TA</td>\n",
              "      <td>Y</td>\n",
              "      <td>0</td>\n",
              "      <td>42</td>\n",
              "      <td>0</td>\n",
              "      <td>0</td>\n",
              "      <td>0</td>\n",
              "      <td>0</td>\n",
              "      <td>NaN</td>\n",
              "      <td>NaN</td>\n",
              "      <td>NaN</td>\n",
              "      <td>0</td>\n",
              "      <td>9</td>\n",
              "      <td>2008</td>\n",
              "      <td>WD</td>\n",
              "      <td>Normal</td>\n",
              "      <td>223500</td>\n",
              "    </tr>\n",
              "    <tr>\n",
              "      <th>3</th>\n",
              "      <td>4</td>\n",
              "      <td>70</td>\n",
              "      <td>RL</td>\n",
              "      <td>60.0</td>\n",
              "      <td>9550</td>\n",
              "      <td>Pave</td>\n",
              "      <td>NaN</td>\n",
              "      <td>IR1</td>\n",
              "      <td>Lvl</td>\n",
              "      <td>AllPub</td>\n",
              "      <td>Corner</td>\n",
              "      <td>Gtl</td>\n",
              "      <td>Crawfor</td>\n",
              "      <td>Norm</td>\n",
              "      <td>Norm</td>\n",
              "      <td>1Fam</td>\n",
              "      <td>2Story</td>\n",
              "      <td>7</td>\n",
              "      <td>5</td>\n",
              "      <td>1915</td>\n",
              "      <td>1970</td>\n",
              "      <td>Gable</td>\n",
              "      <td>CompShg</td>\n",
              "      <td>Wd Sdng</td>\n",
              "      <td>Wd Shng</td>\n",
              "      <td>None</td>\n",
              "      <td>0.0</td>\n",
              "      <td>TA</td>\n",
              "      <td>TA</td>\n",
              "      <td>BrkTil</td>\n",
              "      <td>TA</td>\n",
              "      <td>Gd</td>\n",
              "      <td>No</td>\n",
              "      <td>ALQ</td>\n",
              "      <td>216</td>\n",
              "      <td>Unf</td>\n",
              "      <td>0</td>\n",
              "      <td>540</td>\n",
              "      <td>756</td>\n",
              "      <td>GasA</td>\n",
              "      <td>...</td>\n",
              "      <td>Y</td>\n",
              "      <td>SBrkr</td>\n",
              "      <td>961</td>\n",
              "      <td>756</td>\n",
              "      <td>0</td>\n",
              "      <td>1717</td>\n",
              "      <td>1</td>\n",
              "      <td>0</td>\n",
              "      <td>1</td>\n",
              "      <td>0</td>\n",
              "      <td>3</td>\n",
              "      <td>1</td>\n",
              "      <td>Gd</td>\n",
              "      <td>7</td>\n",
              "      <td>Typ</td>\n",
              "      <td>1</td>\n",
              "      <td>Gd</td>\n",
              "      <td>Detchd</td>\n",
              "      <td>1998.0</td>\n",
              "      <td>Unf</td>\n",
              "      <td>3</td>\n",
              "      <td>642</td>\n",
              "      <td>TA</td>\n",
              "      <td>TA</td>\n",
              "      <td>Y</td>\n",
              "      <td>0</td>\n",
              "      <td>35</td>\n",
              "      <td>272</td>\n",
              "      <td>0</td>\n",
              "      <td>0</td>\n",
              "      <td>0</td>\n",
              "      <td>NaN</td>\n",
              "      <td>NaN</td>\n",
              "      <td>NaN</td>\n",
              "      <td>0</td>\n",
              "      <td>2</td>\n",
              "      <td>2006</td>\n",
              "      <td>WD</td>\n",
              "      <td>Abnorml</td>\n",
              "      <td>140000</td>\n",
              "    </tr>\n",
              "    <tr>\n",
              "      <th>4</th>\n",
              "      <td>5</td>\n",
              "      <td>60</td>\n",
              "      <td>RL</td>\n",
              "      <td>84.0</td>\n",
              "      <td>14260</td>\n",
              "      <td>Pave</td>\n",
              "      <td>NaN</td>\n",
              "      <td>IR1</td>\n",
              "      <td>Lvl</td>\n",
              "      <td>AllPub</td>\n",
              "      <td>FR2</td>\n",
              "      <td>Gtl</td>\n",
              "      <td>NoRidge</td>\n",
              "      <td>Norm</td>\n",
              "      <td>Norm</td>\n",
              "      <td>1Fam</td>\n",
              "      <td>2Story</td>\n",
              "      <td>8</td>\n",
              "      <td>5</td>\n",
              "      <td>2000</td>\n",
              "      <td>2000</td>\n",
              "      <td>Gable</td>\n",
              "      <td>CompShg</td>\n",
              "      <td>VinylSd</td>\n",
              "      <td>VinylSd</td>\n",
              "      <td>BrkFace</td>\n",
              "      <td>350.0</td>\n",
              "      <td>Gd</td>\n",
              "      <td>TA</td>\n",
              "      <td>PConc</td>\n",
              "      <td>Gd</td>\n",
              "      <td>TA</td>\n",
              "      <td>Av</td>\n",
              "      <td>GLQ</td>\n",
              "      <td>655</td>\n",
              "      <td>Unf</td>\n",
              "      <td>0</td>\n",
              "      <td>490</td>\n",
              "      <td>1145</td>\n",
              "      <td>GasA</td>\n",
              "      <td>...</td>\n",
              "      <td>Y</td>\n",
              "      <td>SBrkr</td>\n",
              "      <td>1145</td>\n",
              "      <td>1053</td>\n",
              "      <td>0</td>\n",
              "      <td>2198</td>\n",
              "      <td>1</td>\n",
              "      <td>0</td>\n",
              "      <td>2</td>\n",
              "      <td>1</td>\n",
              "      <td>4</td>\n",
              "      <td>1</td>\n",
              "      <td>Gd</td>\n",
              "      <td>9</td>\n",
              "      <td>Typ</td>\n",
              "      <td>1</td>\n",
              "      <td>TA</td>\n",
              "      <td>Attchd</td>\n",
              "      <td>2000.0</td>\n",
              "      <td>RFn</td>\n",
              "      <td>3</td>\n",
              "      <td>836</td>\n",
              "      <td>TA</td>\n",
              "      <td>TA</td>\n",
              "      <td>Y</td>\n",
              "      <td>192</td>\n",
              "      <td>84</td>\n",
              "      <td>0</td>\n",
              "      <td>0</td>\n",
              "      <td>0</td>\n",
              "      <td>0</td>\n",
              "      <td>NaN</td>\n",
              "      <td>NaN</td>\n",
              "      <td>NaN</td>\n",
              "      <td>0</td>\n",
              "      <td>12</td>\n",
              "      <td>2008</td>\n",
              "      <td>WD</td>\n",
              "      <td>Normal</td>\n",
              "      <td>250000</td>\n",
              "    </tr>\n",
              "  </tbody>\n",
              "</table>\n",
              "<p>5 rows × 81 columns</p>\n",
              "</div>"
            ],
            "text/plain": [
              "   Id  MSSubClass MSZoning  ...  SaleType  SaleCondition SalePrice\n",
              "0   1          60       RL  ...        WD         Normal    208500\n",
              "1   2          20       RL  ...        WD         Normal    181500\n",
              "2   3          60       RL  ...        WD         Normal    223500\n",
              "3   4          70       RL  ...        WD        Abnorml    140000\n",
              "4   5          60       RL  ...        WD         Normal    250000\n",
              "\n",
              "[5 rows x 81 columns]"
            ]
          },
          "metadata": {
            "tags": []
          },
          "execution_count": 34
        }
      ]
    },
    {
      "cell_type": "code",
      "metadata": {
        "id": "OcxHGz_5IeDg",
        "colab_type": "code",
        "outputId": "e7a33403-08f4-455d-a2c2-0b9e5dd3f4af",
        "colab": {
          "base_uri": "https://localhost:8080/",
          "height": 222
        }
      },
      "source": [
        "test = pd.read_csv('test.csv')\n",
        "test.head()"
      ],
      "execution_count": 35,
      "outputs": [
        {
          "output_type": "execute_result",
          "data": {
            "text/html": [
              "<div>\n",
              "<style scoped>\n",
              "    .dataframe tbody tr th:only-of-type {\n",
              "        vertical-align: middle;\n",
              "    }\n",
              "\n",
              "    .dataframe tbody tr th {\n",
              "        vertical-align: top;\n",
              "    }\n",
              "\n",
              "    .dataframe thead th {\n",
              "        text-align: right;\n",
              "    }\n",
              "</style>\n",
              "<table border=\"1\" class=\"dataframe\">\n",
              "  <thead>\n",
              "    <tr style=\"text-align: right;\">\n",
              "      <th></th>\n",
              "      <th>Id</th>\n",
              "      <th>MSSubClass</th>\n",
              "      <th>MSZoning</th>\n",
              "      <th>LotFrontage</th>\n",
              "      <th>LotArea</th>\n",
              "      <th>Street</th>\n",
              "      <th>Alley</th>\n",
              "      <th>LotShape</th>\n",
              "      <th>LandContour</th>\n",
              "      <th>Utilities</th>\n",
              "      <th>LotConfig</th>\n",
              "      <th>LandSlope</th>\n",
              "      <th>Neighborhood</th>\n",
              "      <th>Condition1</th>\n",
              "      <th>Condition2</th>\n",
              "      <th>BldgType</th>\n",
              "      <th>HouseStyle</th>\n",
              "      <th>OverallQual</th>\n",
              "      <th>OverallCond</th>\n",
              "      <th>YearBuilt</th>\n",
              "      <th>YearRemodAdd</th>\n",
              "      <th>RoofStyle</th>\n",
              "      <th>RoofMatl</th>\n",
              "      <th>Exterior1st</th>\n",
              "      <th>Exterior2nd</th>\n",
              "      <th>MasVnrType</th>\n",
              "      <th>MasVnrArea</th>\n",
              "      <th>ExterQual</th>\n",
              "      <th>ExterCond</th>\n",
              "      <th>Foundation</th>\n",
              "      <th>BsmtQual</th>\n",
              "      <th>BsmtCond</th>\n",
              "      <th>BsmtExposure</th>\n",
              "      <th>BsmtFinType1</th>\n",
              "      <th>BsmtFinSF1</th>\n",
              "      <th>BsmtFinType2</th>\n",
              "      <th>BsmtFinSF2</th>\n",
              "      <th>BsmtUnfSF</th>\n",
              "      <th>TotalBsmtSF</th>\n",
              "      <th>Heating</th>\n",
              "      <th>HeatingQC</th>\n",
              "      <th>CentralAir</th>\n",
              "      <th>Electrical</th>\n",
              "      <th>1stFlrSF</th>\n",
              "      <th>2ndFlrSF</th>\n",
              "      <th>LowQualFinSF</th>\n",
              "      <th>GrLivArea</th>\n",
              "      <th>BsmtFullBath</th>\n",
              "      <th>BsmtHalfBath</th>\n",
              "      <th>FullBath</th>\n",
              "      <th>HalfBath</th>\n",
              "      <th>BedroomAbvGr</th>\n",
              "      <th>KitchenAbvGr</th>\n",
              "      <th>KitchenQual</th>\n",
              "      <th>TotRmsAbvGrd</th>\n",
              "      <th>Functional</th>\n",
              "      <th>Fireplaces</th>\n",
              "      <th>FireplaceQu</th>\n",
              "      <th>GarageType</th>\n",
              "      <th>GarageYrBlt</th>\n",
              "      <th>GarageFinish</th>\n",
              "      <th>GarageCars</th>\n",
              "      <th>GarageArea</th>\n",
              "      <th>GarageQual</th>\n",
              "      <th>GarageCond</th>\n",
              "      <th>PavedDrive</th>\n",
              "      <th>WoodDeckSF</th>\n",
              "      <th>OpenPorchSF</th>\n",
              "      <th>EnclosedPorch</th>\n",
              "      <th>3SsnPorch</th>\n",
              "      <th>ScreenPorch</th>\n",
              "      <th>PoolArea</th>\n",
              "      <th>PoolQC</th>\n",
              "      <th>Fence</th>\n",
              "      <th>MiscFeature</th>\n",
              "      <th>MiscVal</th>\n",
              "      <th>MoSold</th>\n",
              "      <th>YrSold</th>\n",
              "      <th>SaleType</th>\n",
              "      <th>SaleCondition</th>\n",
              "    </tr>\n",
              "  </thead>\n",
              "  <tbody>\n",
              "    <tr>\n",
              "      <th>0</th>\n",
              "      <td>1461</td>\n",
              "      <td>20</td>\n",
              "      <td>RH</td>\n",
              "      <td>80.0</td>\n",
              "      <td>11622</td>\n",
              "      <td>Pave</td>\n",
              "      <td>NaN</td>\n",
              "      <td>Reg</td>\n",
              "      <td>Lvl</td>\n",
              "      <td>AllPub</td>\n",
              "      <td>Inside</td>\n",
              "      <td>Gtl</td>\n",
              "      <td>NAmes</td>\n",
              "      <td>Feedr</td>\n",
              "      <td>Norm</td>\n",
              "      <td>1Fam</td>\n",
              "      <td>1Story</td>\n",
              "      <td>5</td>\n",
              "      <td>6</td>\n",
              "      <td>1961</td>\n",
              "      <td>1961</td>\n",
              "      <td>Gable</td>\n",
              "      <td>CompShg</td>\n",
              "      <td>VinylSd</td>\n",
              "      <td>VinylSd</td>\n",
              "      <td>None</td>\n",
              "      <td>0.0</td>\n",
              "      <td>TA</td>\n",
              "      <td>TA</td>\n",
              "      <td>CBlock</td>\n",
              "      <td>TA</td>\n",
              "      <td>TA</td>\n",
              "      <td>No</td>\n",
              "      <td>Rec</td>\n",
              "      <td>468.0</td>\n",
              "      <td>LwQ</td>\n",
              "      <td>144.0</td>\n",
              "      <td>270.0</td>\n",
              "      <td>882.0</td>\n",
              "      <td>GasA</td>\n",
              "      <td>TA</td>\n",
              "      <td>Y</td>\n",
              "      <td>SBrkr</td>\n",
              "      <td>896</td>\n",
              "      <td>0</td>\n",
              "      <td>0</td>\n",
              "      <td>896</td>\n",
              "      <td>0.0</td>\n",
              "      <td>0.0</td>\n",
              "      <td>1</td>\n",
              "      <td>0</td>\n",
              "      <td>2</td>\n",
              "      <td>1</td>\n",
              "      <td>TA</td>\n",
              "      <td>5</td>\n",
              "      <td>Typ</td>\n",
              "      <td>0</td>\n",
              "      <td>NaN</td>\n",
              "      <td>Attchd</td>\n",
              "      <td>1961.0</td>\n",
              "      <td>Unf</td>\n",
              "      <td>1.0</td>\n",
              "      <td>730.0</td>\n",
              "      <td>TA</td>\n",
              "      <td>TA</td>\n",
              "      <td>Y</td>\n",
              "      <td>140</td>\n",
              "      <td>0</td>\n",
              "      <td>0</td>\n",
              "      <td>0</td>\n",
              "      <td>120</td>\n",
              "      <td>0</td>\n",
              "      <td>NaN</td>\n",
              "      <td>MnPrv</td>\n",
              "      <td>NaN</td>\n",
              "      <td>0</td>\n",
              "      <td>6</td>\n",
              "      <td>2010</td>\n",
              "      <td>WD</td>\n",
              "      <td>Normal</td>\n",
              "    </tr>\n",
              "    <tr>\n",
              "      <th>1</th>\n",
              "      <td>1462</td>\n",
              "      <td>20</td>\n",
              "      <td>RL</td>\n",
              "      <td>81.0</td>\n",
              "      <td>14267</td>\n",
              "      <td>Pave</td>\n",
              "      <td>NaN</td>\n",
              "      <td>IR1</td>\n",
              "      <td>Lvl</td>\n",
              "      <td>AllPub</td>\n",
              "      <td>Corner</td>\n",
              "      <td>Gtl</td>\n",
              "      <td>NAmes</td>\n",
              "      <td>Norm</td>\n",
              "      <td>Norm</td>\n",
              "      <td>1Fam</td>\n",
              "      <td>1Story</td>\n",
              "      <td>6</td>\n",
              "      <td>6</td>\n",
              "      <td>1958</td>\n",
              "      <td>1958</td>\n",
              "      <td>Hip</td>\n",
              "      <td>CompShg</td>\n",
              "      <td>Wd Sdng</td>\n",
              "      <td>Wd Sdng</td>\n",
              "      <td>BrkFace</td>\n",
              "      <td>108.0</td>\n",
              "      <td>TA</td>\n",
              "      <td>TA</td>\n",
              "      <td>CBlock</td>\n",
              "      <td>TA</td>\n",
              "      <td>TA</td>\n",
              "      <td>No</td>\n",
              "      <td>ALQ</td>\n",
              "      <td>923.0</td>\n",
              "      <td>Unf</td>\n",
              "      <td>0.0</td>\n",
              "      <td>406.0</td>\n",
              "      <td>1329.0</td>\n",
              "      <td>GasA</td>\n",
              "      <td>TA</td>\n",
              "      <td>Y</td>\n",
              "      <td>SBrkr</td>\n",
              "      <td>1329</td>\n",
              "      <td>0</td>\n",
              "      <td>0</td>\n",
              "      <td>1329</td>\n",
              "      <td>0.0</td>\n",
              "      <td>0.0</td>\n",
              "      <td>1</td>\n",
              "      <td>1</td>\n",
              "      <td>3</td>\n",
              "      <td>1</td>\n",
              "      <td>Gd</td>\n",
              "      <td>6</td>\n",
              "      <td>Typ</td>\n",
              "      <td>0</td>\n",
              "      <td>NaN</td>\n",
              "      <td>Attchd</td>\n",
              "      <td>1958.0</td>\n",
              "      <td>Unf</td>\n",
              "      <td>1.0</td>\n",
              "      <td>312.0</td>\n",
              "      <td>TA</td>\n",
              "      <td>TA</td>\n",
              "      <td>Y</td>\n",
              "      <td>393</td>\n",
              "      <td>36</td>\n",
              "      <td>0</td>\n",
              "      <td>0</td>\n",
              "      <td>0</td>\n",
              "      <td>0</td>\n",
              "      <td>NaN</td>\n",
              "      <td>NaN</td>\n",
              "      <td>Gar2</td>\n",
              "      <td>12500</td>\n",
              "      <td>6</td>\n",
              "      <td>2010</td>\n",
              "      <td>WD</td>\n",
              "      <td>Normal</td>\n",
              "    </tr>\n",
              "    <tr>\n",
              "      <th>2</th>\n",
              "      <td>1463</td>\n",
              "      <td>60</td>\n",
              "      <td>RL</td>\n",
              "      <td>74.0</td>\n",
              "      <td>13830</td>\n",
              "      <td>Pave</td>\n",
              "      <td>NaN</td>\n",
              "      <td>IR1</td>\n",
              "      <td>Lvl</td>\n",
              "      <td>AllPub</td>\n",
              "      <td>Inside</td>\n",
              "      <td>Gtl</td>\n",
              "      <td>Gilbert</td>\n",
              "      <td>Norm</td>\n",
              "      <td>Norm</td>\n",
              "      <td>1Fam</td>\n",
              "      <td>2Story</td>\n",
              "      <td>5</td>\n",
              "      <td>5</td>\n",
              "      <td>1997</td>\n",
              "      <td>1998</td>\n",
              "      <td>Gable</td>\n",
              "      <td>CompShg</td>\n",
              "      <td>VinylSd</td>\n",
              "      <td>VinylSd</td>\n",
              "      <td>None</td>\n",
              "      <td>0.0</td>\n",
              "      <td>TA</td>\n",
              "      <td>TA</td>\n",
              "      <td>PConc</td>\n",
              "      <td>Gd</td>\n",
              "      <td>TA</td>\n",
              "      <td>No</td>\n",
              "      <td>GLQ</td>\n",
              "      <td>791.0</td>\n",
              "      <td>Unf</td>\n",
              "      <td>0.0</td>\n",
              "      <td>137.0</td>\n",
              "      <td>928.0</td>\n",
              "      <td>GasA</td>\n",
              "      <td>Gd</td>\n",
              "      <td>Y</td>\n",
              "      <td>SBrkr</td>\n",
              "      <td>928</td>\n",
              "      <td>701</td>\n",
              "      <td>0</td>\n",
              "      <td>1629</td>\n",
              "      <td>0.0</td>\n",
              "      <td>0.0</td>\n",
              "      <td>2</td>\n",
              "      <td>1</td>\n",
              "      <td>3</td>\n",
              "      <td>1</td>\n",
              "      <td>TA</td>\n",
              "      <td>6</td>\n",
              "      <td>Typ</td>\n",
              "      <td>1</td>\n",
              "      <td>TA</td>\n",
              "      <td>Attchd</td>\n",
              "      <td>1997.0</td>\n",
              "      <td>Fin</td>\n",
              "      <td>2.0</td>\n",
              "      <td>482.0</td>\n",
              "      <td>TA</td>\n",
              "      <td>TA</td>\n",
              "      <td>Y</td>\n",
              "      <td>212</td>\n",
              "      <td>34</td>\n",
              "      <td>0</td>\n",
              "      <td>0</td>\n",
              "      <td>0</td>\n",
              "      <td>0</td>\n",
              "      <td>NaN</td>\n",
              "      <td>MnPrv</td>\n",
              "      <td>NaN</td>\n",
              "      <td>0</td>\n",
              "      <td>3</td>\n",
              "      <td>2010</td>\n",
              "      <td>WD</td>\n",
              "      <td>Normal</td>\n",
              "    </tr>\n",
              "    <tr>\n",
              "      <th>3</th>\n",
              "      <td>1464</td>\n",
              "      <td>60</td>\n",
              "      <td>RL</td>\n",
              "      <td>78.0</td>\n",
              "      <td>9978</td>\n",
              "      <td>Pave</td>\n",
              "      <td>NaN</td>\n",
              "      <td>IR1</td>\n",
              "      <td>Lvl</td>\n",
              "      <td>AllPub</td>\n",
              "      <td>Inside</td>\n",
              "      <td>Gtl</td>\n",
              "      <td>Gilbert</td>\n",
              "      <td>Norm</td>\n",
              "      <td>Norm</td>\n",
              "      <td>1Fam</td>\n",
              "      <td>2Story</td>\n",
              "      <td>6</td>\n",
              "      <td>6</td>\n",
              "      <td>1998</td>\n",
              "      <td>1998</td>\n",
              "      <td>Gable</td>\n",
              "      <td>CompShg</td>\n",
              "      <td>VinylSd</td>\n",
              "      <td>VinylSd</td>\n",
              "      <td>BrkFace</td>\n",
              "      <td>20.0</td>\n",
              "      <td>TA</td>\n",
              "      <td>TA</td>\n",
              "      <td>PConc</td>\n",
              "      <td>TA</td>\n",
              "      <td>TA</td>\n",
              "      <td>No</td>\n",
              "      <td>GLQ</td>\n",
              "      <td>602.0</td>\n",
              "      <td>Unf</td>\n",
              "      <td>0.0</td>\n",
              "      <td>324.0</td>\n",
              "      <td>926.0</td>\n",
              "      <td>GasA</td>\n",
              "      <td>Ex</td>\n",
              "      <td>Y</td>\n",
              "      <td>SBrkr</td>\n",
              "      <td>926</td>\n",
              "      <td>678</td>\n",
              "      <td>0</td>\n",
              "      <td>1604</td>\n",
              "      <td>0.0</td>\n",
              "      <td>0.0</td>\n",
              "      <td>2</td>\n",
              "      <td>1</td>\n",
              "      <td>3</td>\n",
              "      <td>1</td>\n",
              "      <td>Gd</td>\n",
              "      <td>7</td>\n",
              "      <td>Typ</td>\n",
              "      <td>1</td>\n",
              "      <td>Gd</td>\n",
              "      <td>Attchd</td>\n",
              "      <td>1998.0</td>\n",
              "      <td>Fin</td>\n",
              "      <td>2.0</td>\n",
              "      <td>470.0</td>\n",
              "      <td>TA</td>\n",
              "      <td>TA</td>\n",
              "      <td>Y</td>\n",
              "      <td>360</td>\n",
              "      <td>36</td>\n",
              "      <td>0</td>\n",
              "      <td>0</td>\n",
              "      <td>0</td>\n",
              "      <td>0</td>\n",
              "      <td>NaN</td>\n",
              "      <td>NaN</td>\n",
              "      <td>NaN</td>\n",
              "      <td>0</td>\n",
              "      <td>6</td>\n",
              "      <td>2010</td>\n",
              "      <td>WD</td>\n",
              "      <td>Normal</td>\n",
              "    </tr>\n",
              "    <tr>\n",
              "      <th>4</th>\n",
              "      <td>1465</td>\n",
              "      <td>120</td>\n",
              "      <td>RL</td>\n",
              "      <td>43.0</td>\n",
              "      <td>5005</td>\n",
              "      <td>Pave</td>\n",
              "      <td>NaN</td>\n",
              "      <td>IR1</td>\n",
              "      <td>HLS</td>\n",
              "      <td>AllPub</td>\n",
              "      <td>Inside</td>\n",
              "      <td>Gtl</td>\n",
              "      <td>StoneBr</td>\n",
              "      <td>Norm</td>\n",
              "      <td>Norm</td>\n",
              "      <td>TwnhsE</td>\n",
              "      <td>1Story</td>\n",
              "      <td>8</td>\n",
              "      <td>5</td>\n",
              "      <td>1992</td>\n",
              "      <td>1992</td>\n",
              "      <td>Gable</td>\n",
              "      <td>CompShg</td>\n",
              "      <td>HdBoard</td>\n",
              "      <td>HdBoard</td>\n",
              "      <td>None</td>\n",
              "      <td>0.0</td>\n",
              "      <td>Gd</td>\n",
              "      <td>TA</td>\n",
              "      <td>PConc</td>\n",
              "      <td>Gd</td>\n",
              "      <td>TA</td>\n",
              "      <td>No</td>\n",
              "      <td>ALQ</td>\n",
              "      <td>263.0</td>\n",
              "      <td>Unf</td>\n",
              "      <td>0.0</td>\n",
              "      <td>1017.0</td>\n",
              "      <td>1280.0</td>\n",
              "      <td>GasA</td>\n",
              "      <td>Ex</td>\n",
              "      <td>Y</td>\n",
              "      <td>SBrkr</td>\n",
              "      <td>1280</td>\n",
              "      <td>0</td>\n",
              "      <td>0</td>\n",
              "      <td>1280</td>\n",
              "      <td>0.0</td>\n",
              "      <td>0.0</td>\n",
              "      <td>2</td>\n",
              "      <td>0</td>\n",
              "      <td>2</td>\n",
              "      <td>1</td>\n",
              "      <td>Gd</td>\n",
              "      <td>5</td>\n",
              "      <td>Typ</td>\n",
              "      <td>0</td>\n",
              "      <td>NaN</td>\n",
              "      <td>Attchd</td>\n",
              "      <td>1992.0</td>\n",
              "      <td>RFn</td>\n",
              "      <td>2.0</td>\n",
              "      <td>506.0</td>\n",
              "      <td>TA</td>\n",
              "      <td>TA</td>\n",
              "      <td>Y</td>\n",
              "      <td>0</td>\n",
              "      <td>82</td>\n",
              "      <td>0</td>\n",
              "      <td>0</td>\n",
              "      <td>144</td>\n",
              "      <td>0</td>\n",
              "      <td>NaN</td>\n",
              "      <td>NaN</td>\n",
              "      <td>NaN</td>\n",
              "      <td>0</td>\n",
              "      <td>1</td>\n",
              "      <td>2010</td>\n",
              "      <td>WD</td>\n",
              "      <td>Normal</td>\n",
              "    </tr>\n",
              "  </tbody>\n",
              "</table>\n",
              "</div>"
            ],
            "text/plain": [
              "     Id  MSSubClass MSZoning  ...  YrSold  SaleType SaleCondition\n",
              "0  1461          20       RH  ...    2010        WD        Normal\n",
              "1  1462          20       RL  ...    2010        WD        Normal\n",
              "2  1463          60       RL  ...    2010        WD        Normal\n",
              "3  1464          60       RL  ...    2010        WD        Normal\n",
              "4  1465         120       RL  ...    2010        WD        Normal\n",
              "\n",
              "[5 rows x 80 columns]"
            ]
          },
          "metadata": {
            "tags": []
          },
          "execution_count": 35
        }
      ]
    },
    {
      "cell_type": "markdown",
      "metadata": {
        "id": "4tHem8viIeDi",
        "colab_type": "text"
      },
      "source": [
        "### Combine train and test data to process them together"
      ]
    },
    {
      "cell_type": "code",
      "metadata": {
        "id": "x9UbA8XHIeDj",
        "colab_type": "code",
        "colab": {}
      },
      "source": [
        "target = train.SalePrice\n",
        "train.drop(['SalePrice'],axis = 1 , inplace = True)\n",
        "\n",
        "combined = train.append(test)\n",
        "combined.reset_index(inplace=True)\n",
        "combined.drop(['index', 'Id'], inplace=True, axis=1)"
      ],
      "execution_count": 0,
      "outputs": []
    },
    {
      "cell_type": "code",
      "metadata": {
        "id": "8lHSBENcIeDm",
        "colab_type": "code",
        "outputId": "3a0fc0b3-cee1-4b6e-8a70-3ad4546fddb4",
        "colab": {
          "base_uri": "https://localhost:8080/",
          "height": 1000
        }
      },
      "source": [
        "test.info()"
      ],
      "execution_count": 37,
      "outputs": [
        {
          "output_type": "stream",
          "text": [
            "<class 'pandas.core.frame.DataFrame'>\n",
            "RangeIndex: 1459 entries, 0 to 1458\n",
            "Data columns (total 80 columns):\n",
            "Id               1459 non-null int64\n",
            "MSSubClass       1459 non-null int64\n",
            "MSZoning         1455 non-null object\n",
            "LotFrontage      1232 non-null float64\n",
            "LotArea          1459 non-null int64\n",
            "Street           1459 non-null object\n",
            "Alley            107 non-null object\n",
            "LotShape         1459 non-null object\n",
            "LandContour      1459 non-null object\n",
            "Utilities        1457 non-null object\n",
            "LotConfig        1459 non-null object\n",
            "LandSlope        1459 non-null object\n",
            "Neighborhood     1459 non-null object\n",
            "Condition1       1459 non-null object\n",
            "Condition2       1459 non-null object\n",
            "BldgType         1459 non-null object\n",
            "HouseStyle       1459 non-null object\n",
            "OverallQual      1459 non-null int64\n",
            "OverallCond      1459 non-null int64\n",
            "YearBuilt        1459 non-null int64\n",
            "YearRemodAdd     1459 non-null int64\n",
            "RoofStyle        1459 non-null object\n",
            "RoofMatl         1459 non-null object\n",
            "Exterior1st      1458 non-null object\n",
            "Exterior2nd      1458 non-null object\n",
            "MasVnrType       1443 non-null object\n",
            "MasVnrArea       1444 non-null float64\n",
            "ExterQual        1459 non-null object\n",
            "ExterCond        1459 non-null object\n",
            "Foundation       1459 non-null object\n",
            "BsmtQual         1415 non-null object\n",
            "BsmtCond         1414 non-null object\n",
            "BsmtExposure     1415 non-null object\n",
            "BsmtFinType1     1417 non-null object\n",
            "BsmtFinSF1       1458 non-null float64\n",
            "BsmtFinType2     1417 non-null object\n",
            "BsmtFinSF2       1458 non-null float64\n",
            "BsmtUnfSF        1458 non-null float64\n",
            "TotalBsmtSF      1458 non-null float64\n",
            "Heating          1459 non-null object\n",
            "HeatingQC        1459 non-null object\n",
            "CentralAir       1459 non-null object\n",
            "Electrical       1459 non-null object\n",
            "1stFlrSF         1459 non-null int64\n",
            "2ndFlrSF         1459 non-null int64\n",
            "LowQualFinSF     1459 non-null int64\n",
            "GrLivArea        1459 non-null int64\n",
            "BsmtFullBath     1457 non-null float64\n",
            "BsmtHalfBath     1457 non-null float64\n",
            "FullBath         1459 non-null int64\n",
            "HalfBath         1459 non-null int64\n",
            "BedroomAbvGr     1459 non-null int64\n",
            "KitchenAbvGr     1459 non-null int64\n",
            "KitchenQual      1458 non-null object\n",
            "TotRmsAbvGrd     1459 non-null int64\n",
            "Functional       1457 non-null object\n",
            "Fireplaces       1459 non-null int64\n",
            "FireplaceQu      729 non-null object\n",
            "GarageType       1383 non-null object\n",
            "GarageYrBlt      1381 non-null float64\n",
            "GarageFinish     1381 non-null object\n",
            "GarageCars       1458 non-null float64\n",
            "GarageArea       1458 non-null float64\n",
            "GarageQual       1381 non-null object\n",
            "GarageCond       1381 non-null object\n",
            "PavedDrive       1459 non-null object\n",
            "WoodDeckSF       1459 non-null int64\n",
            "OpenPorchSF      1459 non-null int64\n",
            "EnclosedPorch    1459 non-null int64\n",
            "3SsnPorch        1459 non-null int64\n",
            "ScreenPorch      1459 non-null int64\n",
            "PoolArea         1459 non-null int64\n",
            "PoolQC           3 non-null object\n",
            "Fence            290 non-null object\n",
            "MiscFeature      51 non-null object\n",
            "MiscVal          1459 non-null int64\n",
            "MoSold           1459 non-null int64\n",
            "YrSold           1459 non-null int64\n",
            "SaleType         1458 non-null object\n",
            "SaleCondition    1459 non-null object\n",
            "dtypes: float64(11), int64(26), object(43)\n",
            "memory usage: 912.0+ KB\n"
          ],
          "name": "stdout"
        }
      ]
    },
    {
      "cell_type": "code",
      "metadata": {
        "id": "CZaPwKJ7IeDp",
        "colab_type": "code",
        "colab": {}
      },
      "source": [
        "def get_cols_with_no_nans(df,col_type):\n",
        "    '''\n",
        "    Arguments :\n",
        "    df : The dataframe to process\n",
        "    col_type : \n",
        "          num : to only get numerical columns with no nans\n",
        "          no_num : to only get nun-numerical columns with no nans\n",
        "          all : to get any columns with no nans    \n",
        "    '''\n",
        "    if (col_type == 'num'):\n",
        "        predictors = df.select_dtypes(exclude=['object'])\n",
        "    elif (col_type == 'no_num'):\n",
        "        predictors = df.select_dtypes(include=['object'])\n",
        "    elif (col_type == 'all'):\n",
        "        predictors = df\n",
        "    else :\n",
        "        print('Error : choose a type (num, no_num, all)')\n",
        "        return 0\n",
        "    cols_with_no_nans = []\n",
        "    for col in predictors.columns:\n",
        "        if not df[col].isnull().any():\n",
        "            cols_with_no_nans.append(col)\n",
        "    return cols_with_no_nans"
      ],
      "execution_count": 0,
      "outputs": []
    },
    {
      "cell_type": "code",
      "metadata": {
        "id": "IpQKbCbCIeDu",
        "colab_type": "code",
        "outputId": "60289d13-a9a8-4739-e29f-7ce7642a5708",
        "colab": {
          "base_uri": "https://localhost:8080/",
          "height": 52
        }
      },
      "source": [
        "num_cols_train = get_cols_with_no_nans(train , 'num')\n",
        "cat_cols_train = get_cols_with_no_nans(train , 'no_num')\n",
        "print ('Number of numerical columns with no nan values :',len(num_cols_train))\n",
        "print ('Number of nun-numerical columns with no nan values :',len(cat_cols_train))"
      ],
      "execution_count": 39,
      "outputs": [
        {
          "output_type": "stream",
          "text": [
            "Number of numerical columns with no nan values : 34\n",
            "Number of nun-numerical columns with no nan values : 27\n"
          ],
          "name": "stdout"
        }
      ]
    },
    {
      "cell_type": "code",
      "metadata": {
        "id": "VG7jOIrPIeDx",
        "colab_type": "code",
        "outputId": "846aeefd-d658-4eb9-fad4-8cb8e3a9792b",
        "colab": {
          "base_uri": "https://localhost:8080/",
          "height": 52
        }
      },
      "source": [
        "num_cols_combined = get_cols_with_no_nans(combined , 'num')\n",
        "cat_cols_combined = get_cols_with_no_nans(combined , 'no_num')\n",
        "print ('Number of numerical columns with no nan values :',len(num_cols_combined))\n",
        "print ('Number of nun-numerical columns with no nan values :',len(cat_cols_combined))"
      ],
      "execution_count": 40,
      "outputs": [
        {
          "output_type": "stream",
          "text": [
            "Number of numerical columns with no nan values : 25\n",
            "Number of nun-numerical columns with no nan values : 20\n"
          ],
          "name": "stdout"
        }
      ]
    },
    {
      "cell_type": "code",
      "metadata": {
        "id": "FZNHNKZVIeDz",
        "colab_type": "code",
        "outputId": "e10ab978-a281-4e87-9206-86ad05c7bc53",
        "colab": {
          "base_uri": "https://localhost:8080/",
          "height": 52
        }
      },
      "source": [
        "num_cols_test = get_cols_with_no_nans(test , 'num')\n",
        "cat_cols_test = get_cols_with_no_nans(test , 'no_num')\n",
        "print ('Number of numerical columns with no nan values :',len(num_cols_test))\n",
        "print ('Number of nun-numerical columns with no nan values :',len(cat_cols_test))"
      ],
      "execution_count": 41,
      "outputs": [
        {
          "output_type": "stream",
          "text": [
            "Number of numerical columns with no nan values : 26\n",
            "Number of nun-numerical columns with no nan values : 21\n"
          ],
          "name": "stdout"
        }
      ]
    },
    {
      "cell_type": "code",
      "metadata": {
        "id": "naHuSwqyIeD2",
        "colab_type": "code",
        "colab": {}
      },
      "source": [
        "dif =list(set(num_cols_train)-set(num_cols_test))"
      ],
      "execution_count": 0,
      "outputs": []
    },
    {
      "cell_type": "code",
      "metadata": {
        "id": "-RjLR_lZIeD6",
        "colab_type": "code",
        "outputId": "8d16bcfd-3377-4763-a03d-27bb5a61b41e",
        "colab": {
          "base_uri": "https://localhost:8080/",
          "height": 243
        }
      },
      "source": [
        "train[dif].info()"
      ],
      "execution_count": 43,
      "outputs": [
        {
          "output_type": "stream",
          "text": [
            "<class 'pandas.core.frame.DataFrame'>\n",
            "RangeIndex: 1460 entries, 0 to 1459\n",
            "Data columns (total 8 columns):\n",
            "GarageArea      1460 non-null int64\n",
            "BsmtFullBath    1460 non-null int64\n",
            "BsmtFinSF1      1460 non-null int64\n",
            "BsmtFinSF2      1460 non-null int64\n",
            "BsmtUnfSF       1460 non-null int64\n",
            "TotalBsmtSF     1460 non-null int64\n",
            "GarageCars      1460 non-null int64\n",
            "BsmtHalfBath    1460 non-null int64\n",
            "dtypes: int64(8)\n",
            "memory usage: 91.3 KB\n"
          ],
          "name": "stdout"
        }
      ]
    },
    {
      "cell_type": "code",
      "metadata": {
        "id": "BhTbaU8gIeD9",
        "colab_type": "code",
        "outputId": "3c2b9917-4d83-4f71-f4fd-281ed90ef185",
        "colab": {
          "base_uri": "https://localhost:8080/",
          "height": 243
        }
      },
      "source": [
        "test[dif].info()"
      ],
      "execution_count": 44,
      "outputs": [
        {
          "output_type": "stream",
          "text": [
            "<class 'pandas.core.frame.DataFrame'>\n",
            "RangeIndex: 1459 entries, 0 to 1458\n",
            "Data columns (total 8 columns):\n",
            "GarageArea      1458 non-null float64\n",
            "BsmtFullBath    1457 non-null float64\n",
            "BsmtFinSF1      1458 non-null float64\n",
            "BsmtFinSF2      1458 non-null float64\n",
            "BsmtUnfSF       1458 non-null float64\n",
            "TotalBsmtSF     1458 non-null float64\n",
            "GarageCars      1458 non-null float64\n",
            "BsmtHalfBath    1457 non-null float64\n",
            "dtypes: float64(8)\n",
            "memory usage: 91.3 KB\n"
          ],
          "name": "stdout"
        }
      ]
    },
    {
      "cell_type": "code",
      "metadata": {
        "id": "Meyg7WfkIeEA",
        "colab_type": "code",
        "outputId": "523b16c6-333c-4876-cfa3-f199254f3b0c",
        "colab": {
          "base_uri": "https://localhost:8080/",
          "height": 607
        }
      },
      "source": [
        "train[dif].hist(figsize = (12,10))\n",
        "plt.show()"
      ],
      "execution_count": 45,
      "outputs": [
        {
          "output_type": "display_data",
          "data": {
            "image/png": "[encoded data removed]",
            "text/plain": [
              "<Figure size 864x720 with 9 Axes>"
            ]
          },
          "metadata": {
            "tags": []
          }
        }
      ]
    },
    {
      "cell_type": "code",
      "metadata": {
        "id": "72TmOrBpIeEC",
        "colab_type": "code",
        "outputId": "5cc15901-d15b-4293-bf55-b6ecbcdce227",
        "colab": {
          "base_uri": "https://localhost:8080/",
          "height": 156
        }
      },
      "source": [
        "dif"
      ],
      "execution_count": 46,
      "outputs": [
        {
          "output_type": "execute_result",
          "data": {
            "text/plain": [
              "['GarageArea',\n",
              " 'BsmtFullBath',\n",
              " 'BsmtFinSF1',\n",
              " 'BsmtFinSF2',\n",
              " 'BsmtUnfSF',\n",
              " 'TotalBsmtSF',\n",
              " 'GarageCars',\n",
              " 'BsmtHalfBath']"
            ]
          },
          "metadata": {
            "tags": []
          },
          "execution_count": 46
        }
      ]
    },
    {
      "cell_type": "code",
      "metadata": {
        "id": "1U_AQHxIIeEH",
        "colab_type": "code",
        "colab": {}
      },
      "source": [
        "fil0 = ['BsmtFinSF1',\n",
        " 'BsmtFullBath',\n",
        " 'BsmtUnfSF',\n",
        " 'BsmtFinSF2',\n",
        " 'BsmtHalfBath']\n",
        "test[fil0] = test[fil0].fillna(0)\n",
        "test['GarageCars'] = test['GarageCars'].fillna(2.)\n",
        "test['TotalBsmtSF'] = test['TotalBsmtSF'].fillna(train['TotalBsmtSF'].median())"
      ],
      "execution_count": 0,
      "outputs": []
    },
    {
      "cell_type": "markdown",
      "metadata": {
        "id": "HmCCmCyQIeEO",
        "colab_type": "text"
      },
      "source": [
        "#### Check null in categorical columns"
      ]
    },
    {
      "cell_type": "code",
      "metadata": {
        "id": "PaOfgcxzIeEO",
        "colab_type": "code",
        "colab": {}
      },
      "source": [
        "dif =list(set(cat_cols_train)-set(cat_cols_test))"
      ],
      "execution_count": 0,
      "outputs": []
    },
    {
      "cell_type": "code",
      "metadata": {
        "id": "CYWwsHy0IeES",
        "colab_type": "code",
        "outputId": "a5ebdcc0-1d47-4d5c-bf78-e98709b15e5d",
        "colab": {
          "base_uri": "https://localhost:8080/",
          "height": 35
        }
      },
      "source": [
        "train.shape,test.shape"
      ],
      "execution_count": 49,
      "outputs": [
        {
          "output_type": "execute_result",
          "data": {
            "text/plain": [
              "((1460, 80), (1459, 80))"
            ]
          },
          "metadata": {
            "tags": []
          },
          "execution_count": 49
        }
      ]
    },
    {
      "cell_type": "code",
      "metadata": {
        "id": "hzVwmK7jIeEV",
        "colab_type": "code",
        "outputId": "a0cf03e9-05b6-420d-dcd3-6b90afb830bb",
        "colab": {
          "base_uri": "https://localhost:8080/",
          "height": 225
        }
      },
      "source": [
        "train[dif].info()"
      ],
      "execution_count": 50,
      "outputs": [
        {
          "output_type": "stream",
          "text": [
            "<class 'pandas.core.frame.DataFrame'>\n",
            "RangeIndex: 1460 entries, 0 to 1459\n",
            "Data columns (total 7 columns):\n",
            "KitchenQual    1460 non-null object\n",
            "Utilities      1460 non-null object\n",
            "MSZoning       1460 non-null object\n",
            "Exterior2nd    1460 non-null object\n",
            "Exterior1st    1460 non-null object\n",
            "SaleType       1460 non-null object\n",
            "Functional     1460 non-null object\n",
            "dtypes: object(7)\n",
            "memory usage: 79.9+ KB\n"
          ],
          "name": "stdout"
        }
      ]
    },
    {
      "cell_type": "code",
      "metadata": {
        "id": "5zES_vmNIeEb",
        "colab_type": "code",
        "outputId": "37511d93-a1e1-43f8-a660-1f0f33080520",
        "colab": {
          "base_uri": "https://localhost:8080/",
          "height": 225
        }
      },
      "source": [
        "test[dif].info()"
      ],
      "execution_count": 51,
      "outputs": [
        {
          "output_type": "stream",
          "text": [
            "<class 'pandas.core.frame.DataFrame'>\n",
            "RangeIndex: 1459 entries, 0 to 1458\n",
            "Data columns (total 7 columns):\n",
            "KitchenQual    1458 non-null object\n",
            "Utilities      1457 non-null object\n",
            "MSZoning       1455 non-null object\n",
            "Exterior2nd    1458 non-null object\n",
            "Exterior1st    1458 non-null object\n",
            "SaleType       1458 non-null object\n",
            "Functional     1457 non-null object\n",
            "dtypes: object(7)\n",
            "memory usage: 79.9+ KB\n"
          ],
          "name": "stdout"
        }
      ]
    },
    {
      "cell_type": "code",
      "metadata": {
        "id": "ooy5LlYUIeEf",
        "colab_type": "code",
        "outputId": "10e4ced6-2a7e-467d-b105-edaf2b3a4806",
        "colab": {
          "base_uri": "https://localhost:8080/",
          "height": 139
        }
      },
      "source": [
        "for col in dif:\n",
        "    print(col)\n",
        "    test[col] = test[col].fillna(value=str(train[col].mode()[0]))"
      ],
      "execution_count": 52,
      "outputs": [
        {
          "output_type": "stream",
          "text": [
            "KitchenQual\n",
            "Utilities\n",
            "MSZoning\n",
            "Exterior2nd\n",
            "Exterior1st\n",
            "SaleType\n",
            "Functional\n"
          ],
          "name": "stdout"
        }
      ]
    },
    {
      "cell_type": "code",
      "metadata": {
        "id": "ZCISqIVxIeEk",
        "colab_type": "code",
        "outputId": "6a2524cd-7cea-47e8-dfc8-8ef3bab39fce",
        "colab": {
          "base_uri": "https://localhost:8080/",
          "height": 225
        }
      },
      "source": [
        "test[dif].info()"
      ],
      "execution_count": 53,
      "outputs": [
        {
          "output_type": "stream",
          "text": [
            "<class 'pandas.core.frame.DataFrame'>\n",
            "RangeIndex: 1459 entries, 0 to 1458\n",
            "Data columns (total 7 columns):\n",
            "KitchenQual    1459 non-null object\n",
            "Utilities      1459 non-null object\n",
            "MSZoning       1459 non-null object\n",
            "Exterior2nd    1459 non-null object\n",
            "Exterior1st    1459 non-null object\n",
            "SaleType       1459 non-null object\n",
            "Functional     1459 non-null object\n",
            "dtypes: object(7)\n",
            "memory usage: 79.9+ KB\n"
          ],
          "name": "stdout"
        }
      ]
    },
    {
      "cell_type": "code",
      "metadata": {
        "id": "i7XT23xtIeEo",
        "colab_type": "code",
        "outputId": "6d45d83b-8f3e-4f5c-b954-e51144248796",
        "colab": {
          "base_uri": "https://localhost:8080/",
          "height": 104
        }
      },
      "source": [
        "test.KitchenQual.value_counts()"
      ],
      "execution_count": 54,
      "outputs": [
        {
          "output_type": "execute_result",
          "data": {
            "text/plain": [
              "TA    758\n",
              "Gd    565\n",
              "Ex    105\n",
              "Fa     31\n",
              "Name: KitchenQual, dtype: int64"
            ]
          },
          "metadata": {
            "tags": []
          },
          "execution_count": 54
        }
      ]
    },
    {
      "cell_type": "code",
      "metadata": {
        "id": "vGke2LRWIeEs",
        "colab_type": "code",
        "colab": {}
      },
      "source": [
        "combined = train.append(test)\n",
        "combined.reset_index(inplace=True)\n",
        "combined.drop(['index', 'Id'], inplace=True, axis=1)"
      ],
      "execution_count": 0,
      "outputs": []
    },
    {
      "cell_type": "code",
      "metadata": {
        "id": "5-6LCRxWIeEw",
        "colab_type": "code",
        "outputId": "fb403b36-49ae-416d-81d2-eb2b2470b755",
        "colab": {
          "base_uri": "https://localhost:8080/",
          "height": 52
        }
      },
      "source": [
        "num_cols = get_cols_with_no_nans(combined , 'num')\n",
        "cat_cols = get_cols_with_no_nans(combined , 'no_num')\n",
        "print ('Number of numerical columns with no nan values :',len(num_cols))\n",
        "print ('Number of nun-numerical columns with no nan values :',len(cat_cols))"
      ],
      "execution_count": 56,
      "outputs": [
        {
          "output_type": "stream",
          "text": [
            "Number of numerical columns with no nan values : 32\n",
            "Number of nun-numerical columns with no nan values : 27\n"
          ],
          "name": "stdout"
        }
      ]
    },
    {
      "cell_type": "code",
      "metadata": {
        "id": "bjJRDbbYIeEy",
        "colab_type": "code",
        "outputId": "f8a9f4dd-683d-46a2-e77d-90f56769452e",
        "colab": {
          "base_uri": "https://localhost:8080/",
          "height": 607
        }
      },
      "source": [
        "combined = combined[num_cols + cat_cols]\n",
        "combined.hist(figsize = (12,10))\n",
        "plt.show()"
      ],
      "execution_count": 57,
      "outputs": [
        {
          "output_type": "display_data",
          "data": {
            "image/png": "[encoded data removed]",
            "text/plain": [
              "<Figure size 864x720 with 36 Axes>"
            ]
          },
          "metadata": {
            "tags": []
          }
        }
      ]
    },
    {
      "cell_type": "markdown",
      "metadata": {
        "id": "2HAR4i0bIeE7",
        "colab_type": "text"
      },
      "source": [
        "## Manage categorial variable"
      ]
    },
    {
      "cell_type": "code",
      "metadata": {
        "id": "x-OS-ihfIeE8",
        "colab_type": "code",
        "outputId": "a47eb4f4-21e7-4786-a962-fe873a0d3dff",
        "colab": {
          "base_uri": "https://localhost:8080/",
          "height": 52
        }
      },
      "source": [
        "def oneHotEncode(df,colNames):\n",
        "    for col in colNames:\n",
        "        if( df[col].dtype == np.dtype('object')):\n",
        "            dummies = pd.get_dummies(df[col],prefix=col)\n",
        "            df = pd.concat([df,dummies],axis=1)\n",
        "\n",
        "            #drop the encoded column\n",
        "            df.drop([col],axis = 1 , inplace=True)\n",
        "    return df\n",
        "    \n",
        "\n",
        "print('There were {} columns before encoding categorical features'.format(combined.shape[1]))\n",
        "combined = oneHotEncode(combined, cat_cols)\n",
        "print('There are {} columns after encoding categorical features'.format(combined.shape[1]))"
      ],
      "execution_count": 58,
      "outputs": [
        {
          "output_type": "stream",
          "text": [
            "There were 59 columns before encoding categorical features\n",
            "There are 214 columns after encoding categorical features\n"
          ],
          "name": "stdout"
        }
      ]
    },
    {
      "cell_type": "code",
      "metadata": {
        "id": "Y70S3v7mIeFA",
        "colab_type": "code",
        "colab": {}
      },
      "source": [
        "## Split back\n",
        "train = combined[:1460]\n",
        "test = combined[1460:]"
      ],
      "execution_count": 0,
      "outputs": []
    },
    {
      "cell_type": "markdown",
      "metadata": {
        "id": "794ox8-SIeFC",
        "colab_type": "text"
      },
      "source": [
        "### Normalize"
      ]
    },
    {
      "cell_type": "markdown",
      "metadata": {
        "id": "yXukeuMwIeFC",
        "colab_type": "text"
      },
      "source": [
        "## Regression Loss functions\n",
        "### The mean absolute percentage error (MAPE)\n",
        "MAPE, also known as mean absolute percentage deviation (MAPD), is a measure of prediction accuracy of a forecasting method in statistics, for example in trend estimation, also used as a Loss function for regression problems in Machine Learning. It usually expresses accuracy as a percentage, and is defined by the formula:\n",
        "\n",
        "$${\\displaystyle {\\mbox{M}}={\\frac {100\\%}{n}}\\sum _{t=1}^{n}\\left|{\\frac {A_{t}-F_{t}}{A_{t}}}\\right|,} {\\displaystyle {\\mbox{M}}={\\frac {100\\%}{n}}\\sum _{t=1}^{n}\\left|{\\frac {A_{t}-F_{t}}{A_{t}}}\\right|,}$$\n",
        "where $A_t$ is the actual value and $F_t$ is the forecast value. The difference between $A_t$  and $F_t$ is divided by the actual value $A_t$  again. The absolute value in this calculation is summed for every forecasted point in time and divided by the number of fitted points n. Multiplying by 100% makes it a percentage error.\n",
        "\n",
        "* https://en.wikipedia.org/wiki/Mean_absolute_percentage_error\n",
        "\n",
        "### mean_absolute_error\n",
        "### mean_squared_error\n",
        "### mean_squared_logarithmic_error"
      ]
    },
    {
      "cell_type": "markdown",
      "metadata": {
        "id": "jxq_FRPwIeFD",
        "colab_type": "text"
      },
      "source": [
        "## Build Keras model - train and predict"
      ]
    },
    {
      "cell_type": "code",
      "metadata": {
        "id": "nHCtSrvdIeFE",
        "colab_type": "code",
        "outputId": "01405ea2-37ca-4e9a-83b6-c860fc385063",
        "colab": {
          "base_uri": "https://localhost:8080/",
          "height": 329
        }
      },
      "source": [
        "def get_model():\n",
        "    \n",
        "    NN_model = Sequential()\n",
        "\n",
        "    # The Input Layer :\n",
        "    NN_model.add(Dense(128, kernel_initializer='normal',input_dim = train.shape[1], activation='relu'))\n",
        "\n",
        "    # The Hidden Layers :\n",
        "    NN_model.add(Dense(256, kernel_initializer='normal',activation='relu'))\n",
        "    NN_model.add(Dense(256, kernel_initializer='normal',activation='relu'))\n",
        "    NN_model.add(Dense(256, kernel_initializer='normal',activation='relu'))\n",
        "\n",
        "    # The Output Layer :\n",
        "    NN_model.add(Dense(1, kernel_initializer='normal',activation='linear'))\n",
        "    \n",
        "    return NN_model\n",
        "np.random.seed(1235)\n",
        "NN_model = get_model()\n",
        "\n",
        "# Compile the network :\n",
        "NN_model.compile(loss='mean_squared_logarithmic_error', optimizer='adam', \n",
        "                 metrics=['mean_absolute_error'])\n",
        "NN_model.summary()"
      ],
      "execution_count": 60,
      "outputs": [
        {
          "output_type": "stream",
          "text": [
            "Model: \"sequential_2\"\n",
            "_________________________________________________________________\n",
            "Layer (type)                 Output Shape              Param #   \n",
            "=================================================================\n",
            "dense_6 (Dense)              (None, 128)               27520     \n",
            "_________________________________________________________________\n",
            "dense_7 (Dense)              (None, 256)               33024     \n",
            "_________________________________________________________________\n",
            "dense_8 (Dense)              (None, 256)               65792     \n",
            "_________________________________________________________________\n",
            "dense_9 (Dense)              (None, 256)               65792     \n",
            "_________________________________________________________________\n",
            "dense_10 (Dense)             (None, 1)                 257       \n",
            "=================================================================\n",
            "Total params: 192,385\n",
            "Trainable params: 192,385\n",
            "Non-trainable params: 0\n",
            "_________________________________________________________________\n"
          ],
          "name": "stdout"
        }
      ]
    },
    {
      "cell_type": "markdown",
      "metadata": {
        "id": "MYBY9rvzIeFH",
        "colab_type": "text"
      },
      "source": [
        "### Monitor Training\n",
        "* EarlyStopping\n",
        "* Save best models\n",
        "* ReduceLROnPlateau"
      ]
    },
    {
      "cell_type": "code",
      "metadata": {
        "scrolled": true,
        "id": "AfsELTXrIeFI",
        "colab_type": "code",
        "outputId": "f1fd77f0-0e79-4bb5-dda9-89361a2e8297",
        "colab": {
          "base_uri": "https://localhost:8080/",
          "height": 1000
        }
      },
      "source": [
        "from keras.callbacks import EarlyStopping, ModelCheckpoint, ReduceLROnPlateau\n",
        "np.random.seed(1235)\n",
        "epochs = 200\n",
        "batch_size = 32\n",
        "\n",
        "checkpoint = ModelCheckpoint('best_model_e200_b32_oAdam.h5', verbose=1, \n",
        "                             monitor='val_loss',\n",
        "                             save_best_only=True, mode='auto') \n",
        "\n",
        "early = EarlyStopping(monitor='val_loss',\n",
        "                              min_delta=0,\n",
        "                              patience=5,\n",
        "                              verbose=1, mode='auto')\n",
        "\n",
        "history = NN_model.fit(train, target,\n",
        "                    batch_size=batch_size,\n",
        "                    epochs=epochs,\n",
        "                    verbose=1,callbacks=[checkpoint, early],\n",
        "                    validation_split=0.3)"
      ],
      "execution_count": 61,
      "outputs": [
        {
          "output_type": "stream",
          "text": [
            "Train on 1021 samples, validate on 439 samples\n",
            "Epoch 1/200\n",
            "1021/1021 [==============================] - 1s 1ms/step - loss: 21.8687 - mean_absolute_error: 176554.8824 - val_loss: 5.0075 - val_mean_absolute_error: 159802.5926\n",
            "\n",
            "Epoch 00001: val_loss improved from inf to 5.00747, saving model to best_model_e200_b32_oAdam.h5\n",
            "Epoch 2/200\n",
            "1021/1021 [==============================] - 0s 213us/step - loss: 1.5710 - mean_absolute_error: 112961.6586 - val_loss: 0.1248 - val_mean_absolute_error: 49583.2969\n",
            "\n",
            "Epoch 00002: val_loss improved from 5.00747 to 0.12480, saving model to best_model_e200_b32_oAdam.h5\n",
            "Epoch 3/200\n",
            "1021/1021 [==============================] - 0s 198us/step - loss: 0.1372 - mean_absolute_error: 57943.2173 - val_loss: 0.1151 - val_mean_absolute_error: 48071.1863\n",
            "\n",
            "Epoch 00003: val_loss improved from 0.12480 to 0.11509, saving model to best_model_e200_b32_oAdam.h5\n",
            "Epoch 4/200\n",
            "1021/1021 [==============================] - 0s 209us/step - loss: 0.1214 - mean_absolute_error: 53051.4445 - val_loss: 0.1089 - val_mean_absolute_error: 46690.5225\n",
            "\n",
            "Epoch 00004: val_loss improved from 0.11509 to 0.10890, saving model to best_model_e200_b32_oAdam.h5\n",
            "Epoch 5/200\n",
            "1021/1021 [==============================] - 0s 216us/step - loss: 0.1141 - mean_absolute_error: 51417.0666 - val_loss: 0.1010 - val_mean_absolute_error: 44787.1097\n",
            "\n",
            "Epoch 00005: val_loss improved from 0.10890 to 0.10102, saving model to best_model_e200_b32_oAdam.h5\n",
            "Epoch 6/200\n",
            "1021/1021 [==============================] - 0s 205us/step - loss: 0.1051 - mean_absolute_error: 48759.1710 - val_loss: 0.0923 - val_mean_absolute_error: 42759.1957\n",
            "\n",
            "Epoch 00006: val_loss improved from 0.10102 to 0.09228, saving model to best_model_e200_b32_oAdam.h5\n",
            "Epoch 7/200\n",
            "1021/1021 [==============================] - 0s 210us/step - loss: 0.0940 - mean_absolute_error: 45671.0683 - val_loss: 0.0822 - val_mean_absolute_error: 40368.2230\n",
            "\n",
            "Epoch 00007: val_loss improved from 0.09228 to 0.08221, saving model to best_model_e200_b32_oAdam.h5\n",
            "Epoch 8/200\n",
            "1021/1021 [==============================] - 0s 219us/step - loss: 0.0834 - mean_absolute_error: 42567.9226 - val_loss: 0.0726 - val_mean_absolute_error: 37461.3116\n",
            "\n",
            "Epoch 00008: val_loss improved from 0.08221 to 0.07257, saving model to best_model_e200_b32_oAdam.h5\n",
            "Epoch 9/200\n",
            "1021/1021 [==============================] - 0s 208us/step - loss: 0.0723 - mean_absolute_error: 39177.3034 - val_loss: 0.0640 - val_mean_absolute_error: 34650.3327\n",
            "\n",
            "Epoch 00009: val_loss improved from 0.07257 to 0.06402, saving model to best_model_e200_b32_oAdam.h5\n",
            "Epoch 10/200\n",
            "1021/1021 [==============================] - 0s 225us/step - loss: 0.0633 - mean_absolute_error: 36365.8119 - val_loss: 0.0607 - val_mean_absolute_error: 35564.2788\n",
            "\n",
            "Epoch 00010: val_loss improved from 0.06402 to 0.06068, saving model to best_model_e200_b32_oAdam.h5\n",
            "Epoch 11/200\n",
            "1021/1021 [==============================] - 0s 214us/step - loss: 0.0575 - mean_absolute_error: 34427.6914 - val_loss: 0.0548 - val_mean_absolute_error: 32087.0410\n",
            "\n",
            "Epoch 00011: val_loss improved from 0.06068 to 0.05477, saving model to best_model_e200_b32_oAdam.h5\n",
            "Epoch 12/200\n",
            "1021/1021 [==============================] - 0s 193us/step - loss: 0.0531 - mean_absolute_error: 32719.9221 - val_loss: 0.0534 - val_mean_absolute_error: 31291.2009\n",
            "\n",
            "Epoch 00012: val_loss improved from 0.05477 to 0.05337, saving model to best_model_e200_b32_oAdam.h5\n",
            "Epoch 13/200\n",
            "1021/1021 [==============================] - 0s 208us/step - loss: 0.0532 - mean_absolute_error: 32298.0788 - val_loss: 0.0533 - val_mean_absolute_error: 32044.9083\n",
            "\n",
            "Epoch 00013: val_loss improved from 0.05337 to 0.05327, saving model to best_model_e200_b32_oAdam.h5\n",
            "Epoch 14/200\n",
            "1021/1021 [==============================] - 0s 215us/step - loss: 0.0511 - mean_absolute_error: 31868.1737 - val_loss: 0.0554 - val_mean_absolute_error: 31137.1461\n",
            "\n",
            "Epoch 00014: val_loss did not improve from 0.05327\n",
            "Epoch 15/200\n",
            "1021/1021 [==============================] - 0s 201us/step - loss: 0.0503 - mean_absolute_error: 31252.9060 - val_loss: 0.0523 - val_mean_absolute_error: 30941.8228\n",
            "\n",
            "Epoch 00015: val_loss improved from 0.05327 to 0.05229, saving model to best_model_e200_b32_oAdam.h5\n",
            "Epoch 16/200\n",
            "1021/1021 [==============================] - 0s 215us/step - loss: 0.0490 - mean_absolute_error: 30940.2326 - val_loss: 0.0522 - val_mean_absolute_error: 31246.6996\n",
            "\n",
            "Epoch 00016: val_loss improved from 0.05229 to 0.05218, saving model to best_model_e200_b32_oAdam.h5\n",
            "Epoch 17/200\n",
            "1021/1021 [==============================] - 0s 202us/step - loss: 0.0495 - mean_absolute_error: 31239.4494 - val_loss: 0.0517 - val_mean_absolute_error: 30922.4037\n",
            "\n",
            "Epoch 00017: val_loss improved from 0.05218 to 0.05169, saving model to best_model_e200_b32_oAdam.h5\n",
            "Epoch 18/200\n",
            "1021/1021 [==============================] - 0s 212us/step - loss: 0.0478 - mean_absolute_error: 30502.2144 - val_loss: 0.0547 - val_mean_absolute_error: 30911.4854\n",
            "\n",
            "Epoch 00018: val_loss did not improve from 0.05169\n",
            "Epoch 19/200\n",
            "1021/1021 [==============================] - 0s 209us/step - loss: 0.0484 - mean_absolute_error: 30752.3701 - val_loss: 0.0517 - val_mean_absolute_error: 30663.2156\n",
            "\n",
            "Epoch 00019: val_loss did not improve from 0.05169\n",
            "Epoch 20/200\n",
            "1021/1021 [==============================] - 0s 213us/step - loss: 0.0491 - mean_absolute_error: 30477.8227 - val_loss: 0.0519 - val_mean_absolute_error: 31643.3391\n",
            "\n",
            "Epoch 00020: val_loss did not improve from 0.05169\n",
            "Epoch 21/200\n",
            "1021/1021 [==============================] - 0s 201us/step - loss: 0.0466 - mean_absolute_error: 29966.6432 - val_loss: 0.0514 - val_mean_absolute_error: 30413.5403\n",
            "\n",
            "Epoch 00021: val_loss improved from 0.05169 to 0.05142, saving model to best_model_e200_b32_oAdam.h5\n",
            "Epoch 22/200\n",
            "1021/1021 [==============================] - 0s 204us/step - loss: 0.0460 - mean_absolute_error: 29737.2713 - val_loss: 0.0507 - val_mean_absolute_error: 30557.5917\n",
            "\n",
            "Epoch 00022: val_loss improved from 0.05142 to 0.05074, saving model to best_model_e200_b32_oAdam.h5\n",
            "Epoch 23/200\n",
            "1021/1021 [==============================] - 0s 204us/step - loss: 0.0467 - mean_absolute_error: 29875.2147 - val_loss: 0.0506 - val_mean_absolute_error: 30863.4740\n",
            "\n",
            "Epoch 00023: val_loss improved from 0.05074 to 0.05064, saving model to best_model_e200_b32_oAdam.h5\n",
            "Epoch 24/200\n",
            "1021/1021 [==============================] - 0s 222us/step - loss: 0.0455 - mean_absolute_error: 29549.0754 - val_loss: 0.0507 - val_mean_absolute_error: 30848.2765\n",
            "\n",
            "Epoch 00024: val_loss did not improve from 0.05064\n",
            "Epoch 25/200\n",
            "1021/1021 [==============================] - 0s 200us/step - loss: 0.0451 - mean_absolute_error: 29093.3786 - val_loss: 0.0503 - val_mean_absolute_error: 30528.6225\n",
            "\n",
            "Epoch 00025: val_loss improved from 0.05064 to 0.05034, saving model to best_model_e200_b32_oAdam.h5\n",
            "Epoch 26/200\n",
            "1021/1021 [==============================] - 0s 209us/step - loss: 0.0455 - mean_absolute_error: 29215.2087 - val_loss: 0.0503 - val_mean_absolute_error: 30730.8770\n",
            "\n",
            "Epoch 00026: val_loss improved from 0.05034 to 0.05033, saving model to best_model_e200_b32_oAdam.h5\n",
            "Epoch 27/200\n",
            "1021/1021 [==============================] - 0s 210us/step - loss: 0.0444 - mean_absolute_error: 29022.6915 - val_loss: 0.0497 - val_mean_absolute_error: 30195.7621\n",
            "\n",
            "Epoch 00027: val_loss improved from 0.05033 to 0.04970, saving model to best_model_e200_b32_oAdam.h5\n",
            "Epoch 28/200\n",
            "1021/1021 [==============================] - 0s 219us/step - loss: 0.0442 - mean_absolute_error: 28807.1998 - val_loss: 0.0498 - val_mean_absolute_error: 30262.0811\n",
            "\n",
            "Epoch 00028: val_loss did not improve from 0.04970\n",
            "Epoch 29/200\n",
            "1021/1021 [==============================] - 0s 193us/step - loss: 0.0442 - mean_absolute_error: 28925.3470 - val_loss: 0.0500 - val_mean_absolute_error: 30090.0764\n",
            "\n",
            "Epoch 00029: val_loss did not improve from 0.04970\n",
            "Epoch 30/200\n",
            "1021/1021 [==============================] - 0s 214us/step - loss: 0.0464 - mean_absolute_error: 29700.6254 - val_loss: 0.0538 - val_mean_absolute_error: 33033.2005\n",
            "\n",
            "Epoch 00030: val_loss did not improve from 0.04970\n",
            "Epoch 31/200\n",
            "1021/1021 [==============================] - 0s 197us/step - loss: 0.0438 - mean_absolute_error: 28582.8351 - val_loss: 0.0495 - val_mean_absolute_error: 30433.8557\n",
            "\n",
            "Epoch 00031: val_loss improved from 0.04970 to 0.04946, saving model to best_model_e200_b32_oAdam.h5\n",
            "Epoch 32/200\n",
            "1021/1021 [==============================] - 0s 197us/step - loss: 0.0433 - mean_absolute_error: 28391.9945 - val_loss: 0.0499 - val_mean_absolute_error: 29709.6715\n",
            "\n",
            "Epoch 00032: val_loss did not improve from 0.04946\n",
            "Epoch 33/200\n",
            "1021/1021 [==============================] - 0s 215us/step - loss: 0.0426 - mean_absolute_error: 28080.7249 - val_loss: 0.0531 - val_mean_absolute_error: 30304.3121\n",
            "\n",
            "Epoch 00033: val_loss did not improve from 0.04946\n",
            "Epoch 34/200\n",
            "1021/1021 [==============================] - 0s 202us/step - loss: 0.0430 - mean_absolute_error: 28144.3950 - val_loss: 0.0490 - val_mean_absolute_error: 29814.5253\n",
            "\n",
            "Epoch 00034: val_loss improved from 0.04946 to 0.04903, saving model to best_model_e200_b32_oAdam.h5\n",
            "Epoch 35/200\n",
            "1021/1021 [==============================] - 0s 210us/step - loss: 0.0429 - mean_absolute_error: 28133.8405 - val_loss: 0.0498 - val_mean_absolute_error: 29498.2017\n",
            "\n",
            "Epoch 00035: val_loss did not improve from 0.04903\n",
            "Epoch 36/200\n",
            "1021/1021 [==============================] - 0s 213us/step - loss: 0.0421 - mean_absolute_error: 27989.7774 - val_loss: 0.0492 - val_mean_absolute_error: 29684.6457\n",
            "\n",
            "Epoch 00036: val_loss did not improve from 0.04903\n",
            "Epoch 37/200\n",
            "1021/1021 [==============================] - 0s 200us/step - loss: 0.0420 - mean_absolute_error: 27735.3550 - val_loss: 0.0488 - val_mean_absolute_error: 29677.6177\n",
            "\n",
            "Epoch 00037: val_loss improved from 0.04903 to 0.04881, saving model to best_model_e200_b32_oAdam.h5\n",
            "Epoch 38/200\n",
            "1021/1021 [==============================] - 0s 203us/step - loss: 0.0422 - mean_absolute_error: 28022.7515 - val_loss: 0.0488 - val_mean_absolute_error: 29952.1115\n",
            "\n",
            "Epoch 00038: val_loss improved from 0.04881 to 0.04878, saving model to best_model_e200_b32_oAdam.h5\n",
            "Epoch 39/200\n",
            "1021/1021 [==============================] - 0s 208us/step - loss: 0.0417 - mean_absolute_error: 27710.0166 - val_loss: 0.0487 - val_mean_absolute_error: 29492.5270\n",
            "\n",
            "Epoch 00039: val_loss improved from 0.04878 to 0.04874, saving model to best_model_e200_b32_oAdam.h5\n",
            "Epoch 40/200\n",
            "1021/1021 [==============================] - 0s 204us/step - loss: 0.0421 - mean_absolute_error: 27795.7264 - val_loss: 0.0487 - val_mean_absolute_error: 29702.5795\n",
            "\n",
            "Epoch 00040: val_loss improved from 0.04874 to 0.04867, saving model to best_model_e200_b32_oAdam.h5\n",
            "Epoch 41/200\n",
            "1021/1021 [==============================] - 0s 204us/step - loss: 0.0430 - mean_absolute_error: 28380.3526 - val_loss: 0.0492 - val_mean_absolute_error: 29325.3150\n",
            "\n",
            "Epoch 00041: val_loss did not improve from 0.04867\n",
            "Epoch 42/200\n",
            "1021/1021 [==============================] - 0s 204us/step - loss: 0.0424 - mean_absolute_error: 27676.1888 - val_loss: 0.0488 - val_mean_absolute_error: 29333.4953\n",
            "\n",
            "Epoch 00042: val_loss did not improve from 0.04867\n",
            "Epoch 43/200\n",
            "1021/1021 [==============================] - 0s 197us/step - loss: 0.0419 - mean_absolute_error: 27570.3237 - val_loss: 0.0486 - val_mean_absolute_error: 29430.1955\n",
            "\n",
            "Epoch 00043: val_loss improved from 0.04867 to 0.04863, saving model to best_model_e200_b32_oAdam.h5\n",
            "Epoch 44/200\n",
            "1021/1021 [==============================] - 0s 203us/step - loss: 0.0416 - mean_absolute_error: 27427.1928 - val_loss: 0.0489 - val_mean_absolute_error: 30302.7176\n",
            "\n",
            "Epoch 00044: val_loss did not improve from 0.04863\n",
            "Epoch 45/200\n",
            "1021/1021 [==============================] - 0s 196us/step - loss: 0.0419 - mean_absolute_error: 27483.3768 - val_loss: 0.0496 - val_mean_absolute_error: 30600.3301\n",
            "\n",
            "Epoch 00045: val_loss did not improve from 0.04863\n",
            "Epoch 46/200\n",
            "1021/1021 [==============================] - 0s 207us/step - loss: 0.0413 - mean_absolute_error: 27377.7052 - val_loss: 0.0487 - val_mean_absolute_error: 30091.8200\n",
            "\n",
            "Epoch 00046: val_loss did not improve from 0.04863\n",
            "Epoch 47/200\n",
            "1021/1021 [==============================] - 0s 220us/step - loss: 0.0407 - mean_absolute_error: 27220.4873 - val_loss: 0.0488 - val_mean_absolute_error: 29158.7600\n",
            "\n",
            "Epoch 00047: val_loss did not improve from 0.04863\n",
            "Epoch 48/200\n",
            "1021/1021 [==============================] - 0s 219us/step - loss: 0.0409 - mean_absolute_error: 27202.9533 - val_loss: 0.0481 - val_mean_absolute_error: 29186.8961\n",
            "\n",
            "Epoch 00048: val_loss improved from 0.04863 to 0.04815, saving model to best_model_e200_b32_oAdam.h5\n",
            "Epoch 49/200\n",
            "1021/1021 [==============================] - 0s 199us/step - loss: 0.0417 - mean_absolute_error: 27537.5153 - val_loss: 0.0505 - val_mean_absolute_error: 29334.1711\n",
            "\n",
            "Epoch 00049: val_loss did not improve from 0.04815\n",
            "Epoch 50/200\n",
            "1021/1021 [==============================] - 0s 193us/step - loss: 0.0412 - mean_absolute_error: 27093.8196 - val_loss: 0.0482 - val_mean_absolute_error: 29642.4912\n",
            "\n",
            "Epoch 00050: val_loss did not improve from 0.04815\n",
            "Epoch 51/200\n",
            "1021/1021 [==============================] - 0s 209us/step - loss: 0.0414 - mean_absolute_error: 27249.3509 - val_loss: 0.0480 - val_mean_absolute_error: 29661.7566\n",
            "\n",
            "Epoch 00051: val_loss improved from 0.04815 to 0.04804, saving model to best_model_e200_b32_oAdam.h5\n",
            "Epoch 52/200\n",
            "1021/1021 [==============================] - 0s 208us/step - loss: 0.0414 - mean_absolute_error: 27561.6467 - val_loss: 0.0499 - val_mean_absolute_error: 31022.9101\n",
            "\n",
            "Epoch 00052: val_loss did not improve from 0.04804\n",
            "Epoch 53/200\n",
            "1021/1021 [==============================] - 0s 207us/step - loss: 0.0416 - mean_absolute_error: 27636.2197 - val_loss: 0.0480 - val_mean_absolute_error: 29092.0863\n",
            "\n",
            "Epoch 00053: val_loss improved from 0.04804 to 0.04800, saving model to best_model_e200_b32_oAdam.h5\n",
            "Epoch 54/200\n",
            "1021/1021 [==============================] - 0s 209us/step - loss: 0.0404 - mean_absolute_error: 26809.3375 - val_loss: 0.0474 - val_mean_absolute_error: 29220.0182\n",
            "\n",
            "Epoch 00054: val_loss improved from 0.04800 to 0.04745, saving model to best_model_e200_b32_oAdam.h5\n",
            "Epoch 55/200\n",
            "1021/1021 [==============================] - 0s 225us/step - loss: 0.0409 - mean_absolute_error: 27092.4130 - val_loss: 0.0478 - val_mean_absolute_error: 29633.1395\n",
            "\n",
            "Epoch 00055: val_loss did not improve from 0.04745\n",
            "Epoch 56/200\n",
            "1021/1021 [==============================] - 0s 206us/step - loss: 0.0399 - mean_absolute_error: 26714.0737 - val_loss: 0.0475 - val_mean_absolute_error: 29129.2434\n",
            "\n",
            "Epoch 00056: val_loss did not improve from 0.04745\n",
            "Epoch 57/200\n",
            "1021/1021 [==============================] - 0s 201us/step - loss: 0.0398 - mean_absolute_error: 26665.5713 - val_loss: 0.0488 - val_mean_absolute_error: 28774.3150\n",
            "\n",
            "Epoch 00057: val_loss did not improve from 0.04745\n",
            "Epoch 58/200\n",
            "1021/1021 [==============================] - 0s 196us/step - loss: 0.0390 - mean_absolute_error: 26340.4866 - val_loss: 0.0509 - val_mean_absolute_error: 29409.2288\n",
            "\n",
            "Epoch 00058: val_loss did not improve from 0.04745\n",
            "Epoch 59/200\n",
            "1021/1021 [==============================] - 0s 200us/step - loss: 0.0397 - mean_absolute_error: 26702.2271 - val_loss: 0.0486 - val_mean_absolute_error: 28794.3782\n",
            "\n",
            "Epoch 00059: val_loss did not improve from 0.04745\n",
            "Epoch 00059: early stopping\n"
          ],
          "name": "stdout"
        }
      ]
    },
    {
      "cell_type": "code",
      "metadata": {
        "id": "PGI2fUROIeFK",
        "colab_type": "code",
        "outputId": "73d813ce-b07e-4a86-9669-c3bb3d329ea0",
        "colab": {
          "base_uri": "https://localhost:8080/",
          "height": 295
        }
      },
      "source": [
        "drow_history(history, 'loss', 2)"
      ],
      "execution_count": 62,
      "outputs": [
        {
          "output_type": "display_data",
          "data": {
            "image/png": "[encoded data removed]",
            "text/plain": [
              "<Figure size 432x288 with 1 Axes>"
            ]
          },
          "metadata": {
            "tags": []
          }
        }
      ]
    },
    {
      "cell_type": "code",
      "metadata": {
        "id": "-Q8smTovIeFN",
        "colab_type": "code",
        "colab": {}
      },
      "source": [
        "#### Load the best model\n",
        "NN_model.load_weights('best_model_e200_b32_oAdam.h5')\n",
        "# Compile the network :\n",
        "NN_model.compile(loss='mean_squared_logarithmic_error', optimizer='adam', \n",
        "                 metrics=['mean_absolute_error'])"
      ],
      "execution_count": 0,
      "outputs": []
    },
    {
      "cell_type": "code",
      "metadata": {
        "id": "QD5UV4J2IeFO",
        "colab_type": "code",
        "outputId": "e729fdad-1d92-408f-ed5d-394db5d3c477",
        "colab": {
          "base_uri": "https://localhost:8080/",
          "height": 35
        }
      },
      "source": [
        "score=NN_model.evaluate(train, target)"
      ],
      "execution_count": 64,
      "outputs": [
        {
          "output_type": "stream",
          "text": [
            "1460/1460 [==============================] - 0s 140us/step\n"
          ],
          "name": "stdout"
        }
      ]
    },
    {
      "cell_type": "code",
      "metadata": {
        "id": "4EqVr3PfIeFT",
        "colab_type": "code",
        "outputId": "a1a34c36-235c-4140-c42e-3c44c03f1aab",
        "colab": {
          "base_uri": "https://localhost:8080/",
          "height": 35
        }
      },
      "source": [
        "score"
      ],
      "execution_count": 65,
      "outputs": [
        {
          "output_type": "execute_result",
          "data": {
            "text/plain": [
              "[0.04190598044493427, 27612.60694563356]"
            ]
          },
          "metadata": {
            "tags": []
          },
          "execution_count": 65
        }
      ]
    },
    {
      "cell_type": "code",
      "metadata": {
        "id": "qwtDzvfJIeFV",
        "colab_type": "code",
        "outputId": "c31d14ca-8afd-4dc0-ead6-2fa56602c01c",
        "colab": {
          "base_uri": "https://localhost:8080/",
          "height": 35
        }
      },
      "source": [
        "def make_submission(prediction, sub_name):\n",
        "    my_submission = pd.DataFrame({'Id':pd.read_csv('test.csv').Id,'SalePrice':prediction})\n",
        "    my_submission.to_csv('{}.csv'.format(sub_name),index=False)\n",
        "    print('A submission file has been made')\n",
        "\n",
        "predictions = NN_model.predict(test)\n",
        "make_submission(predictions[:,0],'submission_oAdam')"
      ],
      "execution_count": 74,
      "outputs": [
        {
          "output_type": "stream",
          "text": [
            "A submission file has been made\n"
          ],
          "name": "stdout"
        }
      ]
    },
    {
      "cell_type": "code",
      "metadata": {
        "id": "jI7jGTClKx3k",
        "colab_type": "code",
        "outputId": "089ca0e1-4244-46fd-adf9-6ee502fe47c5",
        "colab": {
          "base_uri": "https://localhost:8080/",
          "height": 69
        }
      },
      "source": [
        "!ls"
      ],
      "execution_count": 0,
      "outputs": [
        {
          "output_type": "stream",
          "text": [
            "best_model_e200_b32_oAdam.h5  sample_submission.csv  train.csv\n",
            "data_description.txt\t      submission_oAdam.csv\n",
            "sample_data\t\t      test.csv\n"
          ],
          "name": "stdout"
        }
      ]
    },
    {
      "cell_type": "markdown",
      "metadata": {
        "id": "RpsSSVrIIeFY",
        "colab_type": "text"
      },
      "source": [
        "kaggle result: 0.22215\n",
        "************************************************************"
      ]
    },
    {
      "cell_type": "code",
      "metadata": {
        "id": "Rn7yDIX2Kkac",
        "colab_type": "code",
        "colab": {}
      },
      "source": [
        "from google.colab import files\n",
        "files.download('submission_oAdam.csv') "
      ],
      "execution_count": 0,
      "outputs": []
    },
    {
      "cell_type": "markdown",
      "metadata": {
        "id": "D45jObSgIeFZ",
        "colab_type": "text"
      },
      "source": [
        "## Improvments"
      ]
    },
    {
      "cell_type": "markdown",
      "metadata": {
        "id": "mw2se5_RIeFa",
        "colab_type": "text"
      },
      "source": [
        "Split the data, for better model comparison"
      ]
    },
    {
      "cell_type": "code",
      "metadata": {
        "id": "VZ4qmLRGIeFa",
        "colab_type": "code",
        "outputId": "efea5596-5d20-4c59-a8e3-d0b5059f78de",
        "colab": {
          "base_uri": "https://localhost:8080/",
          "height": 269
        }
      },
      "source": [
        "X_train, X_test, y_train, y_test = train_test_split(train, target, test_size=.3, \n",
        "                                                    random_state=42)\n",
        "X_train.head()"
      ],
      "execution_count": 66,
      "outputs": [
        {
          "output_type": "execute_result",
          "data": {
            "text/html": [
              "<div>\n",
              "<style scoped>\n",
              "    .dataframe tbody tr th:only-of-type {\n",
              "        vertical-align: middle;\n",
              "    }\n",
              "\n",
              "    .dataframe tbody tr th {\n",
              "        vertical-align: top;\n",
              "    }\n",
              "\n",
              "    .dataframe thead th {\n",
              "        text-align: right;\n",
              "    }\n",
              "</style>\n",
              "<table border=\"1\" class=\"dataframe\">\n",
              "  <thead>\n",
              "    <tr style=\"text-align: right;\">\n",
              "      <th></th>\n",
              "      <th>MSSubClass</th>\n",
              "      <th>LotArea</th>\n",
              "      <th>OverallQual</th>\n",
              "      <th>OverallCond</th>\n",
              "      <th>YearBuilt</th>\n",
              "      <th>YearRemodAdd</th>\n",
              "      <th>BsmtFinSF1</th>\n",
              "      <th>BsmtFinSF2</th>\n",
              "      <th>BsmtUnfSF</th>\n",
              "      <th>TotalBsmtSF</th>\n",
              "      <th>1stFlrSF</th>\n",
              "      <th>2ndFlrSF</th>\n",
              "      <th>LowQualFinSF</th>\n",
              "      <th>GrLivArea</th>\n",
              "      <th>BsmtFullBath</th>\n",
              "      <th>BsmtHalfBath</th>\n",
              "      <th>FullBath</th>\n",
              "      <th>HalfBath</th>\n",
              "      <th>BedroomAbvGr</th>\n",
              "      <th>KitchenAbvGr</th>\n",
              "      <th>TotRmsAbvGrd</th>\n",
              "      <th>Fireplaces</th>\n",
              "      <th>GarageCars</th>\n",
              "      <th>WoodDeckSF</th>\n",
              "      <th>OpenPorchSF</th>\n",
              "      <th>EnclosedPorch</th>\n",
              "      <th>3SsnPorch</th>\n",
              "      <th>ScreenPorch</th>\n",
              "      <th>PoolArea</th>\n",
              "      <th>MiscVal</th>\n",
              "      <th>MoSold</th>\n",
              "      <th>YrSold</th>\n",
              "      <th>MSZoning_C (all)</th>\n",
              "      <th>MSZoning_FV</th>\n",
              "      <th>MSZoning_RH</th>\n",
              "      <th>MSZoning_RL</th>\n",
              "      <th>MSZoning_RM</th>\n",
              "      <th>Street_Grvl</th>\n",
              "      <th>Street_Pave</th>\n",
              "      <th>LotShape_IR1</th>\n",
              "      <th>...</th>\n",
              "      <th>Heating_GasW</th>\n",
              "      <th>Heating_Grav</th>\n",
              "      <th>Heating_OthW</th>\n",
              "      <th>Heating_Wall</th>\n",
              "      <th>HeatingQC_Ex</th>\n",
              "      <th>HeatingQC_Fa</th>\n",
              "      <th>HeatingQC_Gd</th>\n",
              "      <th>HeatingQC_Po</th>\n",
              "      <th>HeatingQC_TA</th>\n",
              "      <th>CentralAir_N</th>\n",
              "      <th>CentralAir_Y</th>\n",
              "      <th>KitchenQual_Ex</th>\n",
              "      <th>KitchenQual_Fa</th>\n",
              "      <th>KitchenQual_Gd</th>\n",
              "      <th>KitchenQual_TA</th>\n",
              "      <th>Functional_Maj1</th>\n",
              "      <th>Functional_Maj2</th>\n",
              "      <th>Functional_Min1</th>\n",
              "      <th>Functional_Min2</th>\n",
              "      <th>Functional_Mod</th>\n",
              "      <th>Functional_Sev</th>\n",
              "      <th>Functional_Typ</th>\n",
              "      <th>PavedDrive_N</th>\n",
              "      <th>PavedDrive_P</th>\n",
              "      <th>PavedDrive_Y</th>\n",
              "      <th>SaleType_COD</th>\n",
              "      <th>SaleType_CWD</th>\n",
              "      <th>SaleType_Con</th>\n",
              "      <th>SaleType_ConLD</th>\n",
              "      <th>SaleType_ConLI</th>\n",
              "      <th>SaleType_ConLw</th>\n",
              "      <th>SaleType_New</th>\n",
              "      <th>SaleType_Oth</th>\n",
              "      <th>SaleType_WD</th>\n",
              "      <th>SaleCondition_Abnorml</th>\n",
              "      <th>SaleCondition_AdjLand</th>\n",
              "      <th>SaleCondition_Alloca</th>\n",
              "      <th>SaleCondition_Family</th>\n",
              "      <th>SaleCondition_Normal</th>\n",
              "      <th>SaleCondition_Partial</th>\n",
              "    </tr>\n",
              "  </thead>\n",
              "  <tbody>\n",
              "    <tr>\n",
              "      <th>135</th>\n",
              "      <td>20</td>\n",
              "      <td>10400</td>\n",
              "      <td>7</td>\n",
              "      <td>6</td>\n",
              "      <td>1970</td>\n",
              "      <td>1970</td>\n",
              "      <td>0.0</td>\n",
              "      <td>0.0</td>\n",
              "      <td>1304.0</td>\n",
              "      <td>1304.0</td>\n",
              "      <td>1682</td>\n",
              "      <td>0</td>\n",
              "      <td>0</td>\n",
              "      <td>1682</td>\n",
              "      <td>0.0</td>\n",
              "      <td>0.0</td>\n",
              "      <td>2</td>\n",
              "      <td>0</td>\n",
              "      <td>3</td>\n",
              "      <td>1</td>\n",
              "      <td>7</td>\n",
              "      <td>1</td>\n",
              "      <td>2.0</td>\n",
              "      <td>98</td>\n",
              "      <td>0</td>\n",
              "      <td>0</td>\n",
              "      <td>0</td>\n",
              "      <td>0</td>\n",
              "      <td>0</td>\n",
              "      <td>0</td>\n",
              "      <td>5</td>\n",
              "      <td>2008</td>\n",
              "      <td>0</td>\n",
              "      <td>0</td>\n",
              "      <td>0</td>\n",
              "      <td>1</td>\n",
              "      <td>0</td>\n",
              "      <td>0</td>\n",
              "      <td>1</td>\n",
              "      <td>0</td>\n",
              "      <td>...</td>\n",
              "      <td>0</td>\n",
              "      <td>0</td>\n",
              "      <td>0</td>\n",
              "      <td>0</td>\n",
              "      <td>0</td>\n",
              "      <td>0</td>\n",
              "      <td>1</td>\n",
              "      <td>0</td>\n",
              "      <td>0</td>\n",
              "      <td>0</td>\n",
              "      <td>1</td>\n",
              "      <td>0</td>\n",
              "      <td>0</td>\n",
              "      <td>0</td>\n",
              "      <td>1</td>\n",
              "      <td>0</td>\n",
              "      <td>0</td>\n",
              "      <td>0</td>\n",
              "      <td>0</td>\n",
              "      <td>0</td>\n",
              "      <td>0</td>\n",
              "      <td>1</td>\n",
              "      <td>0</td>\n",
              "      <td>0</td>\n",
              "      <td>1</td>\n",
              "      <td>0</td>\n",
              "      <td>0</td>\n",
              "      <td>0</td>\n",
              "      <td>0</td>\n",
              "      <td>0</td>\n",
              "      <td>0</td>\n",
              "      <td>0</td>\n",
              "      <td>0</td>\n",
              "      <td>1</td>\n",
              "      <td>0</td>\n",
              "      <td>0</td>\n",
              "      <td>0</td>\n",
              "      <td>0</td>\n",
              "      <td>1</td>\n",
              "      <td>0</td>\n",
              "    </tr>\n",
              "    <tr>\n",
              "      <th>1452</th>\n",
              "      <td>180</td>\n",
              "      <td>3675</td>\n",
              "      <td>5</td>\n",
              "      <td>5</td>\n",
              "      <td>2005</td>\n",
              "      <td>2005</td>\n",
              "      <td>547.0</td>\n",
              "      <td>0.0</td>\n",
              "      <td>0.0</td>\n",
              "      <td>547.0</td>\n",
              "      <td>1072</td>\n",
              "      <td>0</td>\n",
              "      <td>0</td>\n",
              "      <td>1072</td>\n",
              "      <td>1.0</td>\n",
              "      <td>0.0</td>\n",
              "      <td>1</td>\n",
              "      <td>0</td>\n",
              "      <td>2</td>\n",
              "      <td>1</td>\n",
              "      <td>5</td>\n",
              "      <td>0</td>\n",
              "      <td>2.0</td>\n",
              "      <td>0</td>\n",
              "      <td>28</td>\n",
              "      <td>0</td>\n",
              "      <td>0</td>\n",
              "      <td>0</td>\n",
              "      <td>0</td>\n",
              "      <td>0</td>\n",
              "      <td>5</td>\n",
              "      <td>2006</td>\n",
              "      <td>0</td>\n",
              "      <td>0</td>\n",
              "      <td>0</td>\n",
              "      <td>0</td>\n",
              "      <td>1</td>\n",
              "      <td>0</td>\n",
              "      <td>1</td>\n",
              "      <td>0</td>\n",
              "      <td>...</td>\n",
              "      <td>0</td>\n",
              "      <td>0</td>\n",
              "      <td>0</td>\n",
              "      <td>0</td>\n",
              "      <td>0</td>\n",
              "      <td>0</td>\n",
              "      <td>1</td>\n",
              "      <td>0</td>\n",
              "      <td>0</td>\n",
              "      <td>0</td>\n",
              "      <td>1</td>\n",
              "      <td>0</td>\n",
              "      <td>0</td>\n",
              "      <td>0</td>\n",
              "      <td>1</td>\n",
              "      <td>0</td>\n",
              "      <td>0</td>\n",
              "      <td>0</td>\n",
              "      <td>0</td>\n",
              "      <td>0</td>\n",
              "      <td>0</td>\n",
              "      <td>1</td>\n",
              "      <td>0</td>\n",
              "      <td>0</td>\n",
              "      <td>1</td>\n",
              "      <td>0</td>\n",
              "      <td>0</td>\n",
              "      <td>0</td>\n",
              "      <td>0</td>\n",
              "      <td>0</td>\n",
              "      <td>0</td>\n",
              "      <td>0</td>\n",
              "      <td>0</td>\n",
              "      <td>1</td>\n",
              "      <td>0</td>\n",
              "      <td>0</td>\n",
              "      <td>0</td>\n",
              "      <td>0</td>\n",
              "      <td>1</td>\n",
              "      <td>0</td>\n",
              "    </tr>\n",
              "    <tr>\n",
              "      <th>762</th>\n",
              "      <td>60</td>\n",
              "      <td>8640</td>\n",
              "      <td>7</td>\n",
              "      <td>5</td>\n",
              "      <td>2009</td>\n",
              "      <td>2009</td>\n",
              "      <td>24.0</td>\n",
              "      <td>0.0</td>\n",
              "      <td>732.0</td>\n",
              "      <td>756.0</td>\n",
              "      <td>764</td>\n",
              "      <td>783</td>\n",
              "      <td>0</td>\n",
              "      <td>1547</td>\n",
              "      <td>0.0</td>\n",
              "      <td>0.0</td>\n",
              "      <td>2</td>\n",
              "      <td>1</td>\n",
              "      <td>3</td>\n",
              "      <td>1</td>\n",
              "      <td>7</td>\n",
              "      <td>0</td>\n",
              "      <td>2.0</td>\n",
              "      <td>169</td>\n",
              "      <td>45</td>\n",
              "      <td>0</td>\n",
              "      <td>0</td>\n",
              "      <td>0</td>\n",
              "      <td>0</td>\n",
              "      <td>0</td>\n",
              "      <td>6</td>\n",
              "      <td>2010</td>\n",
              "      <td>0</td>\n",
              "      <td>1</td>\n",
              "      <td>0</td>\n",
              "      <td>0</td>\n",
              "      <td>0</td>\n",
              "      <td>0</td>\n",
              "      <td>1</td>\n",
              "      <td>0</td>\n",
              "      <td>...</td>\n",
              "      <td>0</td>\n",
              "      <td>0</td>\n",
              "      <td>0</td>\n",
              "      <td>0</td>\n",
              "      <td>1</td>\n",
              "      <td>0</td>\n",
              "      <td>0</td>\n",
              "      <td>0</td>\n",
              "      <td>0</td>\n",
              "      <td>0</td>\n",
              "      <td>1</td>\n",
              "      <td>0</td>\n",
              "      <td>0</td>\n",
              "      <td>1</td>\n",
              "      <td>0</td>\n",
              "      <td>0</td>\n",
              "      <td>0</td>\n",
              "      <td>0</td>\n",
              "      <td>0</td>\n",
              "      <td>0</td>\n",
              "      <td>0</td>\n",
              "      <td>1</td>\n",
              "      <td>0</td>\n",
              "      <td>0</td>\n",
              "      <td>1</td>\n",
              "      <td>0</td>\n",
              "      <td>0</td>\n",
              "      <td>1</td>\n",
              "      <td>0</td>\n",
              "      <td>0</td>\n",
              "      <td>0</td>\n",
              "      <td>0</td>\n",
              "      <td>0</td>\n",
              "      <td>0</td>\n",
              "      <td>0</td>\n",
              "      <td>0</td>\n",
              "      <td>0</td>\n",
              "      <td>0</td>\n",
              "      <td>1</td>\n",
              "      <td>0</td>\n",
              "    </tr>\n",
              "    <tr>\n",
              "      <th>932</th>\n",
              "      <td>20</td>\n",
              "      <td>11670</td>\n",
              "      <td>9</td>\n",
              "      <td>5</td>\n",
              "      <td>2006</td>\n",
              "      <td>2006</td>\n",
              "      <td>0.0</td>\n",
              "      <td>0.0</td>\n",
              "      <td>1905.0</td>\n",
              "      <td>1905.0</td>\n",
              "      <td>1905</td>\n",
              "      <td>0</td>\n",
              "      <td>0</td>\n",
              "      <td>1905</td>\n",
              "      <td>0.0</td>\n",
              "      <td>0.0</td>\n",
              "      <td>2</td>\n",
              "      <td>0</td>\n",
              "      <td>3</td>\n",
              "      <td>1</td>\n",
              "      <td>8</td>\n",
              "      <td>1</td>\n",
              "      <td>3.0</td>\n",
              "      <td>0</td>\n",
              "      <td>191</td>\n",
              "      <td>0</td>\n",
              "      <td>0</td>\n",
              "      <td>0</td>\n",
              "      <td>0</td>\n",
              "      <td>0</td>\n",
              "      <td>3</td>\n",
              "      <td>2007</td>\n",
              "      <td>0</td>\n",
              "      <td>0</td>\n",
              "      <td>0</td>\n",
              "      <td>1</td>\n",
              "      <td>0</td>\n",
              "      <td>0</td>\n",
              "      <td>1</td>\n",
              "      <td>1</td>\n",
              "      <td>...</td>\n",
              "      <td>0</td>\n",
              "      <td>0</td>\n",
              "      <td>0</td>\n",
              "      <td>0</td>\n",
              "      <td>1</td>\n",
              "      <td>0</td>\n",
              "      <td>0</td>\n",
              "      <td>0</td>\n",
              "      <td>0</td>\n",
              "      <td>0</td>\n",
              "      <td>1</td>\n",
              "      <td>1</td>\n",
              "      <td>0</td>\n",
              "      <td>0</td>\n",
              "      <td>0</td>\n",
              "      <td>0</td>\n",
              "      <td>0</td>\n",
              "      <td>0</td>\n",
              "      <td>0</td>\n",
              "      <td>0</td>\n",
              "      <td>0</td>\n",
              "      <td>1</td>\n",
              "      <td>0</td>\n",
              "      <td>0</td>\n",
              "      <td>1</td>\n",
              "      <td>0</td>\n",
              "      <td>0</td>\n",
              "      <td>0</td>\n",
              "      <td>0</td>\n",
              "      <td>0</td>\n",
              "      <td>0</td>\n",
              "      <td>0</td>\n",
              "      <td>0</td>\n",
              "      <td>1</td>\n",
              "      <td>0</td>\n",
              "      <td>0</td>\n",
              "      <td>0</td>\n",
              "      <td>0</td>\n",
              "      <td>1</td>\n",
              "      <td>0</td>\n",
              "    </tr>\n",
              "    <tr>\n",
              "      <th>435</th>\n",
              "      <td>60</td>\n",
              "      <td>10667</td>\n",
              "      <td>7</td>\n",
              "      <td>6</td>\n",
              "      <td>1996</td>\n",
              "      <td>1996</td>\n",
              "      <td>385.0</td>\n",
              "      <td>344.0</td>\n",
              "      <td>70.0</td>\n",
              "      <td>799.0</td>\n",
              "      <td>827</td>\n",
              "      <td>834</td>\n",
              "      <td>0</td>\n",
              "      <td>1661</td>\n",
              "      <td>1.0</td>\n",
              "      <td>0.0</td>\n",
              "      <td>2</td>\n",
              "      <td>1</td>\n",
              "      <td>3</td>\n",
              "      <td>1</td>\n",
              "      <td>6</td>\n",
              "      <td>1</td>\n",
              "      <td>2.0</td>\n",
              "      <td>158</td>\n",
              "      <td>61</td>\n",
              "      <td>0</td>\n",
              "      <td>0</td>\n",
              "      <td>0</td>\n",
              "      <td>0</td>\n",
              "      <td>0</td>\n",
              "      <td>4</td>\n",
              "      <td>2009</td>\n",
              "      <td>0</td>\n",
              "      <td>0</td>\n",
              "      <td>0</td>\n",
              "      <td>1</td>\n",
              "      <td>0</td>\n",
              "      <td>0</td>\n",
              "      <td>1</td>\n",
              "      <td>0</td>\n",
              "      <td>...</td>\n",
              "      <td>0</td>\n",
              "      <td>0</td>\n",
              "      <td>0</td>\n",
              "      <td>0</td>\n",
              "      <td>1</td>\n",
              "      <td>0</td>\n",
              "      <td>0</td>\n",
              "      <td>0</td>\n",
              "      <td>0</td>\n",
              "      <td>0</td>\n",
              "      <td>1</td>\n",
              "      <td>0</td>\n",
              "      <td>0</td>\n",
              "      <td>1</td>\n",
              "      <td>0</td>\n",
              "      <td>0</td>\n",
              "      <td>0</td>\n",
              "      <td>0</td>\n",
              "      <td>0</td>\n",
              "      <td>0</td>\n",
              "      <td>0</td>\n",
              "      <td>1</td>\n",
              "      <td>0</td>\n",
              "      <td>0</td>\n",
              "      <td>1</td>\n",
              "      <td>0</td>\n",
              "      <td>0</td>\n",
              "      <td>0</td>\n",
              "      <td>0</td>\n",
              "      <td>0</td>\n",
              "      <td>1</td>\n",
              "      <td>0</td>\n",
              "      <td>0</td>\n",
              "      <td>0</td>\n",
              "      <td>0</td>\n",
              "      <td>0</td>\n",
              "      <td>0</td>\n",
              "      <td>0</td>\n",
              "      <td>1</td>\n",
              "      <td>0</td>\n",
              "    </tr>\n",
              "  </tbody>\n",
              "</table>\n",
              "<p>5 rows × 214 columns</p>\n",
              "</div>"
            ],
            "text/plain": [
              "      MSSubClass  LotArea  ...  SaleCondition_Normal  SaleCondition_Partial\n",
              "135           20    10400  ...                     1                      0\n",
              "1452         180     3675  ...                     1                      0\n",
              "762           60     8640  ...                     1                      0\n",
              "932           20    11670  ...                     1                      0\n",
              "435           60    10667  ...                     1                      0\n",
              "\n",
              "[5 rows x 214 columns]"
            ]
          },
          "metadata": {
            "tags": []
          },
          "execution_count": 66
        }
      ]
    },
    {
      "cell_type": "code",
      "metadata": {
        "id": "LQdryYw1IeFf",
        "colab_type": "code",
        "colab": {}
      },
      "source": [
        "np.random.seed(1235)\n",
        "NN_model = get_model()\n",
        "\n",
        "# Compile the network :\n",
        "NN_model.compile(loss='mean_squared_logarithmic_error', optimizer='adam', \n",
        "                 metrics=['mean_absolute_error'])"
      ],
      "execution_count": 0,
      "outputs": []
    },
    {
      "cell_type": "code",
      "metadata": {
        "scrolled": true,
        "id": "IIsFcjdXIeFi",
        "colab_type": "code",
        "outputId": "8488d60e-9ff4-444a-c833-17175800f672",
        "colab": {
          "base_uri": "https://localhost:8080/",
          "height": 1000
        }
      },
      "source": [
        "from keras.callbacks import EarlyStopping, ModelCheckpoint, ReduceLROnPlateau\n",
        "np.random.seed(1235)\n",
        "epochs = 200\n",
        "batch_size = 100\n",
        "\n",
        "reduce_lr = ReduceLROnPlateau(monitor='val_loss', factor=0.2,\n",
        "                              patience=5, min_lr=0.0001, verbose=1)\n",
        "\n",
        "checkpoint = ModelCheckpoint('best_model_e200_b32_oadam_lr.h5', verbose=1, \n",
        "                             monitor='val_loss',\n",
        "                             save_best_only=True, mode='auto') \n",
        "\n",
        "early = EarlyStopping(monitor='val_loss',\n",
        "                              min_delta=0,\n",
        "                              patience=10,\n",
        "                              verbose=1, mode='auto')\n",
        "\n",
        "history = NN_model.fit(X_train, y_train,\n",
        "                    batch_size=batch_size,\n",
        "                    epochs=epochs,\n",
        "                    verbose=1,callbacks=[checkpoint, early, reduce_lr],\n",
        "                    validation_data=(X_test, y_test))"
      ],
      "execution_count": 68,
      "outputs": [
        {
          "output_type": "stream",
          "text": [
            "Train on 1022 samples, validate on 438 samples\n",
            "Epoch 1/200\n",
            "1022/1022 [==============================] - 1s 508us/step - loss: 40.3543 - mean_absolute_error: 180616.7904 - val_loss: 20.9478 - val_mean_absolute_error: 178151.0743\n",
            "\n",
            "Epoch 00001: val_loss improved from inf to 20.94777, saving model to best_model_e200_b32_oadam_lr.h5\n",
            "Epoch 2/200\n",
            "1022/1022 [==============================] - 0s 77us/step - loss: 15.2589 - mean_absolute_error: 177051.2971 - val_loss: 9.0011 - val_mean_absolute_error: 171081.3581\n",
            "\n",
            "Epoch 00002: val_loss improved from 20.94777 to 9.00111, saving model to best_model_e200_b32_oadam_lr.h5\n",
            "Epoch 3/200\n",
            "1022/1022 [==============================] - 0s 73us/step - loss: 6.0790 - mean_absolute_error: 163885.6491 - val_loss: 3.0818 - val_mean_absolute_error: 148827.4881\n",
            "\n",
            "Epoch 00003: val_loss improved from 9.00111 to 3.08179, saving model to best_model_e200_b32_oadam_lr.h5\n",
            "Epoch 4/200\n",
            "1022/1022 [==============================] - 0s 86us/step - loss: 1.8831 - mean_absolute_error: 132224.3092 - val_loss: 0.7865 - val_mean_absolute_error: 104361.4098\n",
            "\n",
            "Epoch 00004: val_loss improved from 3.08179 to 0.78647, saving model to best_model_e200_b32_oadam_lr.h5\n",
            "Epoch 5/200\n",
            "1022/1022 [==============================] - 0s 81us/step - loss: 0.4345 - mean_absolute_error: 85224.8302 - val_loss: 0.1806 - val_mean_absolute_error: 59380.7366\n",
            "\n",
            "Epoch 00005: val_loss improved from 0.78647 to 0.18057, saving model to best_model_e200_b32_oadam_lr.h5\n",
            "Epoch 6/200\n",
            "1022/1022 [==============================] - 0s 89us/step - loss: 0.1365 - mean_absolute_error: 55123.4648 - val_loss: 0.1396 - val_mean_absolute_error: 54761.6126\n",
            "\n",
            "Epoch 00006: val_loss improved from 0.18057 to 0.13956, saving model to best_model_e200_b32_oadam_lr.h5\n",
            "Epoch 7/200\n",
            "1022/1022 [==============================] - 0s 76us/step - loss: 0.1402 - mean_absolute_error: 58640.2667 - val_loss: 0.1466 - val_mean_absolute_error: 56451.9944\n",
            "\n",
            "Epoch 00007: val_loss did not improve from 0.13956\n",
            "Epoch 8/200\n",
            "1022/1022 [==============================] - 0s 66us/step - loss: 0.1365 - mean_absolute_error: 57487.2769 - val_loss: 0.1338 - val_mean_absolute_error: 53380.8371\n",
            "\n",
            "Epoch 00008: val_loss improved from 0.13956 to 0.13384, saving model to best_model_e200_b32_oadam_lr.h5\n",
            "Epoch 9/200\n",
            "1022/1022 [==============================] - 0s 74us/step - loss: 0.1251 - mean_absolute_error: 54184.7016 - val_loss: 0.1290 - val_mean_absolute_error: 51916.9666\n",
            "\n",
            "Epoch 00009: val_loss improved from 0.13384 to 0.12897, saving model to best_model_e200_b32_oadam_lr.h5\n",
            "Epoch 10/200\n",
            "1022/1022 [==============================] - 0s 64us/step - loss: 0.1224 - mean_absolute_error: 52825.1910 - val_loss: 0.1276 - val_mean_absolute_error: 51431.1029\n",
            "\n",
            "Epoch 00010: val_loss improved from 0.12897 to 0.12761, saving model to best_model_e200_b32_oadam_lr.h5\n",
            "Epoch 11/200\n",
            "1022/1022 [==============================] - 0s 75us/step - loss: 0.1207 - mean_absolute_error: 52416.5243 - val_loss: 0.1256 - val_mean_absolute_error: 51081.3438\n",
            "\n",
            "Epoch 00011: val_loss improved from 0.12761 to 0.12558, saving model to best_model_e200_b32_oadam_lr.h5\n",
            "Epoch 12/200\n",
            "1022/1022 [==============================] - 0s 67us/step - loss: 0.1189 - mean_absolute_error: 51994.1777 - val_loss: 0.1237 - val_mean_absolute_error: 50656.4979\n",
            "\n",
            "Epoch 00012: val_loss improved from 0.12558 to 0.12371, saving model to best_model_e200_b32_oadam_lr.h5\n",
            "Epoch 13/200\n",
            "1022/1022 [==============================] - 0s 78us/step - loss: 0.1173 - mean_absolute_error: 51770.3004 - val_loss: 0.1216 - val_mean_absolute_error: 50283.9113\n",
            "\n",
            "Epoch 00013: val_loss improved from 0.12371 to 0.12159, saving model to best_model_e200_b32_oadam_lr.h5\n",
            "Epoch 14/200\n",
            "1022/1022 [==============================] - 0s 74us/step - loss: 0.1150 - mean_absolute_error: 51158.2628 - val_loss: 0.1192 - val_mean_absolute_error: 49712.7305\n",
            "\n",
            "Epoch 00014: val_loss improved from 0.12159 to 0.11924, saving model to best_model_e200_b32_oadam_lr.h5\n",
            "Epoch 15/200\n",
            "1022/1022 [==============================] - 0s 77us/step - loss: 0.1131 - mean_absolute_error: 50549.4453 - val_loss: 0.1170 - val_mean_absolute_error: 49184.0024\n",
            "\n",
            "Epoch 00015: val_loss improved from 0.11924 to 0.11699, saving model to best_model_e200_b32_oadam_lr.h5\n",
            "Epoch 16/200\n",
            "1022/1022 [==============================] - 0s 79us/step - loss: 0.1106 - mean_absolute_error: 49913.5137 - val_loss: 0.1144 - val_mean_absolute_error: 48594.6258\n",
            "\n",
            "Epoch 00016: val_loss improved from 0.11699 to 0.11439, saving model to best_model_e200_b32_oadam_lr.h5\n",
            "Epoch 17/200\n",
            "1022/1022 [==============================] - 0s 78us/step - loss: 0.1084 - mean_absolute_error: 49238.7532 - val_loss: 0.1118 - val_mean_absolute_error: 47963.5347\n",
            "\n",
            "Epoch 00017: val_loss improved from 0.11439 to 0.11180, saving model to best_model_e200_b32_oadam_lr.h5\n",
            "Epoch 18/200\n",
            "1022/1022 [==============================] - 0s 80us/step - loss: 0.1057 - mean_absolute_error: 48548.5121 - val_loss: 0.1084 - val_mean_absolute_error: 47143.5890\n",
            "\n",
            "Epoch 00018: val_loss improved from 0.11180 to 0.10843, saving model to best_model_e200_b32_oadam_lr.h5\n",
            "Epoch 19/200\n",
            "1022/1022 [==============================] - 0s 78us/step - loss: 0.1024 - mean_absolute_error: 47684.5481 - val_loss: 0.1039 - val_mean_absolute_error: 46008.3519\n",
            "\n",
            "Epoch 00019: val_loss improved from 0.10843 to 0.10393, saving model to best_model_e200_b32_oadam_lr.h5\n",
            "Epoch 20/200\n",
            "1022/1022 [==============================] - 0s 78us/step - loss: 0.0981 - mean_absolute_error: 46535.5095 - val_loss: 0.0986 - val_mean_absolute_error: 44607.2670\n",
            "\n",
            "Epoch 00020: val_loss improved from 0.10393 to 0.09861, saving model to best_model_e200_b32_oadam_lr.h5\n",
            "Epoch 21/200\n",
            "1022/1022 [==============================] - 0s 75us/step - loss: 0.0935 - mean_absolute_error: 45207.9595 - val_loss: 0.0931 - val_mean_absolute_error: 43091.5042\n",
            "\n",
            "Epoch 00021: val_loss improved from 0.09861 to 0.09309, saving model to best_model_e200_b32_oadam_lr.h5\n",
            "Epoch 22/200\n",
            "1022/1022 [==============================] - 0s 76us/step - loss: 0.0883 - mean_absolute_error: 43717.9200 - val_loss: 0.0874 - val_mean_absolute_error: 41666.8160\n",
            "\n",
            "Epoch 00022: val_loss improved from 0.09309 to 0.08742, saving model to best_model_e200_b32_oadam_lr.h5\n",
            "Epoch 23/200\n",
            "1022/1022 [==============================] - 0s 79us/step - loss: 0.0839 - mean_absolute_error: 42571.2890 - val_loss: 0.0819 - val_mean_absolute_error: 40036.9576\n",
            "\n",
            "Epoch 00023: val_loss improved from 0.08742 to 0.08189, saving model to best_model_e200_b32_oadam_lr.h5\n",
            "Epoch 24/200\n",
            "1022/1022 [==============================] - 0s 74us/step - loss: 0.0791 - mean_absolute_error: 40680.9945 - val_loss: 0.0769 - val_mean_absolute_error: 38530.1141\n",
            "\n",
            "Epoch 00024: val_loss improved from 0.08189 to 0.07690, saving model to best_model_e200_b32_oadam_lr.h5\n",
            "Epoch 25/200\n",
            "1022/1022 [==============================] - 0s 73us/step - loss: 0.0751 - mean_absolute_error: 39435.7040 - val_loss: 0.0723 - val_mean_absolute_error: 37669.8703\n",
            "\n",
            "Epoch 00025: val_loss improved from 0.07690 to 0.07228, saving model to best_model_e200_b32_oadam_lr.h5\n",
            "Epoch 26/200\n",
            "1022/1022 [==============================] - 0s 67us/step - loss: 0.0714 - mean_absolute_error: 38731.9969 - val_loss: 0.0678 - val_mean_absolute_error: 36070.2825\n",
            "\n",
            "Epoch 00026: val_loss improved from 0.07228 to 0.06783, saving model to best_model_e200_b32_oadam_lr.h5\n",
            "Epoch 27/200\n",
            "1022/1022 [==============================] - 0s 67us/step - loss: 0.0680 - mean_absolute_error: 37319.1745 - val_loss: 0.0641 - val_mean_absolute_error: 35088.6251\n",
            "\n",
            "Epoch 00027: val_loss improved from 0.06783 to 0.06414, saving model to best_model_e200_b32_oadam_lr.h5\n",
            "Epoch 28/200\n",
            "1022/1022 [==============================] - 0s 75us/step - loss: 0.0652 - mean_absolute_error: 36669.5360 - val_loss: 0.0611 - val_mean_absolute_error: 33912.2346\n",
            "\n",
            "Epoch 00028: val_loss improved from 0.06414 to 0.06115, saving model to best_model_e200_b32_oadam_lr.h5\n",
            "Epoch 29/200\n",
            "1022/1022 [==============================] - 0s 77us/step - loss: 0.0626 - mean_absolute_error: 35365.4858 - val_loss: 0.0583 - val_mean_absolute_error: 33697.4149\n",
            "\n",
            "Epoch 00029: val_loss improved from 0.06115 to 0.05825, saving model to best_model_e200_b32_oadam_lr.h5\n",
            "Epoch 30/200\n",
            "1022/1022 [==============================] - 0s 80us/step - loss: 0.0604 - mean_absolute_error: 35082.2028 - val_loss: 0.0566 - val_mean_absolute_error: 32400.4958\n",
            "\n",
            "Epoch 00030: val_loss improved from 0.05825 to 0.05657, saving model to best_model_e200_b32_oadam_lr.h5\n",
            "Epoch 31/200\n",
            "1022/1022 [==============================] - 0s 75us/step - loss: 0.0592 - mean_absolute_error: 34127.4907 - val_loss: 0.0545 - val_mean_absolute_error: 32884.8905\n",
            "\n",
            "Epoch 00031: val_loss improved from 0.05657 to 0.05446, saving model to best_model_e200_b32_oadam_lr.h5\n",
            "Epoch 32/200\n",
            "1022/1022 [==============================] - 0s 71us/step - loss: 0.0571 - mean_absolute_error: 33574.6580 - val_loss: 0.0525 - val_mean_absolute_error: 31938.0352\n",
            "\n",
            "Epoch 00032: val_loss improved from 0.05446 to 0.05250, saving model to best_model_e200_b32_oadam_lr.h5\n",
            "Epoch 33/200\n",
            "1022/1022 [==============================] - 0s 77us/step - loss: 0.0554 - mean_absolute_error: 33170.2625 - val_loss: 0.0512 - val_mean_absolute_error: 31603.4141\n",
            "\n",
            "Epoch 00033: val_loss improved from 0.05250 to 0.05121, saving model to best_model_e200_b32_oadam_lr.h5\n",
            "Epoch 34/200\n",
            "1022/1022 [==============================] - 0s 76us/step - loss: 0.0546 - mean_absolute_error: 32906.3932 - val_loss: 0.0496 - val_mean_absolute_error: 30815.3823\n",
            "\n",
            "Epoch 00034: val_loss improved from 0.05121 to 0.04961, saving model to best_model_e200_b32_oadam_lr.h5\n",
            "Epoch 35/200\n",
            "1022/1022 [==============================] - 0s 76us/step - loss: 0.0538 - mean_absolute_error: 32722.5298 - val_loss: 0.0491 - val_mean_absolute_error: 30229.7833\n",
            "\n",
            "Epoch 00035: val_loss improved from 0.04961 to 0.04909, saving model to best_model_e200_b32_oadam_lr.h5\n",
            "Epoch 36/200\n",
            "1022/1022 [==============================] - 0s 76us/step - loss: 0.0529 - mean_absolute_error: 32288.0236 - val_loss: 0.0482 - val_mean_absolute_error: 30146.5445\n",
            "\n",
            "Epoch 00036: val_loss improved from 0.04909 to 0.04823, saving model to best_model_e200_b32_oadam_lr.h5\n",
            "Epoch 37/200\n",
            "1022/1022 [==============================] - 0s 76us/step - loss: 0.0521 - mean_absolute_error: 31494.9005 - val_loss: 0.0481 - val_mean_absolute_error: 30690.4021\n",
            "\n",
            "Epoch 00037: val_loss improved from 0.04823 to 0.04811, saving model to best_model_e200_b32_oadam_lr.h5\n",
            "Epoch 38/200\n",
            "1022/1022 [==============================] - 0s 79us/step - loss: 0.0515 - mean_absolute_error: 31526.9088 - val_loss: 0.0470 - val_mean_absolute_error: 29871.7009\n",
            "\n",
            "Epoch 00038: val_loss improved from 0.04811 to 0.04698, saving model to best_model_e200_b32_oadam_lr.h5\n",
            "Epoch 39/200\n",
            "1022/1022 [==============================] - 0s 74us/step - loss: 0.0511 - mean_absolute_error: 31201.4111 - val_loss: 0.0467 - val_mean_absolute_error: 30025.7855\n",
            "\n",
            "Epoch 00039: val_loss improved from 0.04698 to 0.04674, saving model to best_model_e200_b32_oadam_lr.h5\n",
            "Epoch 40/200\n",
            "1022/1022 [==============================] - 0s 76us/step - loss: 0.0506 - mean_absolute_error: 31114.8950 - val_loss: 0.0462 - val_mean_absolute_error: 29624.9439\n",
            "\n",
            "Epoch 00040: val_loss improved from 0.04674 to 0.04619, saving model to best_model_e200_b32_oadam_lr.h5\n",
            "Epoch 41/200\n",
            "1022/1022 [==============================] - 0s 74us/step - loss: 0.0506 - mean_absolute_error: 31113.3110 - val_loss: 0.0462 - val_mean_absolute_error: 29894.6689\n",
            "\n",
            "Epoch 00041: val_loss improved from 0.04619 to 0.04619, saving model to best_model_e200_b32_oadam_lr.h5\n",
            "Epoch 42/200\n",
            "1022/1022 [==============================] - 0s 80us/step - loss: 0.0499 - mean_absolute_error: 30952.3303 - val_loss: 0.0460 - val_mean_absolute_error: 29111.3696\n",
            "\n",
            "Epoch 00042: val_loss improved from 0.04619 to 0.04596, saving model to best_model_e200_b32_oadam_lr.h5\n",
            "Epoch 43/200\n",
            "1022/1022 [==============================] - 0s 79us/step - loss: 0.0507 - mean_absolute_error: 31020.0429 - val_loss: 0.0458 - val_mean_absolute_error: 29782.4133\n",
            "\n",
            "Epoch 00043: val_loss improved from 0.04596 to 0.04581, saving model to best_model_e200_b32_oadam_lr.h5\n",
            "Epoch 44/200\n",
            "1022/1022 [==============================] - 0s 75us/step - loss: 0.0494 - mean_absolute_error: 30455.5144 - val_loss: 0.0458 - val_mean_absolute_error: 29961.8310\n",
            "\n",
            "Epoch 00044: val_loss improved from 0.04581 to 0.04580, saving model to best_model_e200_b32_oadam_lr.h5\n",
            "Epoch 45/200\n",
            "1022/1022 [==============================] - 0s 77us/step - loss: 0.0493 - mean_absolute_error: 30805.8729 - val_loss: 0.0460 - val_mean_absolute_error: 28900.8469\n",
            "\n",
            "Epoch 00045: val_loss did not improve from 0.04580\n",
            "Epoch 46/200\n",
            "1022/1022 [==============================] - 0s 70us/step - loss: 0.0493 - mean_absolute_error: 30303.3178 - val_loss: 0.0472 - val_mean_absolute_error: 30824.7665\n",
            "\n",
            "Epoch 00046: val_loss did not improve from 0.04580\n",
            "Epoch 47/200\n",
            "1022/1022 [==============================] - 0s 73us/step - loss: 0.0492 - mean_absolute_error: 30564.2389 - val_loss: 0.0453 - val_mean_absolute_error: 29565.3378\n",
            "\n",
            "Epoch 00047: val_loss improved from 0.04580 to 0.04528, saving model to best_model_e200_b32_oadam_lr.h5\n",
            "Epoch 48/200\n",
            "1022/1022 [==============================] - 0s 74us/step - loss: 0.0487 - mean_absolute_error: 30312.0726 - val_loss: 0.0451 - val_mean_absolute_error: 29243.6157\n",
            "\n",
            "Epoch 00048: val_loss improved from 0.04528 to 0.04513, saving model to best_model_e200_b32_oadam_lr.h5\n",
            "Epoch 49/200\n",
            "1022/1022 [==============================] - 0s 78us/step - loss: 0.0484 - mean_absolute_error: 30236.6781 - val_loss: 0.0455 - val_mean_absolute_error: 29635.0486\n",
            "\n",
            "Epoch 00049: val_loss did not improve from 0.04513\n",
            "Epoch 50/200\n",
            "1022/1022 [==============================] - 0s 66us/step - loss: 0.0483 - mean_absolute_error: 30426.5108 - val_loss: 0.0464 - val_mean_absolute_error: 28645.3451\n",
            "\n",
            "Epoch 00050: val_loss did not improve from 0.04513\n",
            "Epoch 51/200\n",
            "1022/1022 [==============================] - 0s 69us/step - loss: 0.0515 - mean_absolute_error: 31067.9026 - val_loss: 0.0455 - val_mean_absolute_error: 29776.7856\n",
            "\n",
            "Epoch 00051: val_loss did not improve from 0.04513\n",
            "Epoch 52/200\n",
            "1022/1022 [==============================] - 0s 84us/step - loss: 0.0482 - mean_absolute_error: 29775.9401 - val_loss: 0.0453 - val_mean_absolute_error: 29152.9282\n",
            "\n",
            "Epoch 00052: val_loss did not improve from 0.04513\n",
            "Epoch 53/200\n",
            "1022/1022 [==============================] - 0s 77us/step - loss: 0.0481 - mean_absolute_error: 29932.1372 - val_loss: 0.0451 - val_mean_absolute_error: 29172.4599\n",
            "\n",
            "Epoch 00053: val_loss improved from 0.04513 to 0.04509, saving model to best_model_e200_b32_oadam_lr.h5\n",
            "\n",
            "Epoch 00053: ReduceLROnPlateau reducing learning rate to 0.00020000000949949026.\n",
            "Epoch 54/200\n",
            "1022/1022 [==============================] - 0s 76us/step - loss: 0.0477 - mean_absolute_error: 29880.9636 - val_loss: 0.0452 - val_mean_absolute_error: 29517.5028\n",
            "\n",
            "Epoch 00054: val_loss did not improve from 0.04509\n",
            "Epoch 55/200\n",
            "1022/1022 [==============================] - 0s 79us/step - loss: 0.0477 - mean_absolute_error: 29898.3226 - val_loss: 0.0450 - val_mean_absolute_error: 29260.4989\n",
            "\n",
            "Epoch 00055: val_loss improved from 0.04509 to 0.04505, saving model to best_model_e200_b32_oadam_lr.h5\n",
            "Epoch 56/200\n",
            "1022/1022 [==============================] - 0s 72us/step - loss: 0.0477 - mean_absolute_error: 29850.2670 - val_loss: 0.0451 - val_mean_absolute_error: 29356.7154\n",
            "\n",
            "Epoch 00056: val_loss did not improve from 0.04505\n",
            "Epoch 57/200\n",
            "1022/1022 [==============================] - 0s 70us/step - loss: 0.0476 - mean_absolute_error: 29925.9670 - val_loss: 0.0451 - val_mean_absolute_error: 29346.9936\n",
            "\n",
            "Epoch 00057: val_loss did not improve from 0.04505\n",
            "Epoch 58/200\n",
            "1022/1022 [==============================] - 0s 77us/step - loss: 0.0476 - mean_absolute_error: 29816.2008 - val_loss: 0.0450 - val_mean_absolute_error: 29185.5539\n",
            "\n",
            "Epoch 00058: val_loss improved from 0.04505 to 0.04500, saving model to best_model_e200_b32_oadam_lr.h5\n",
            "Epoch 59/200\n",
            "1022/1022 [==============================] - 0s 74us/step - loss: 0.0476 - mean_absolute_error: 29765.2421 - val_loss: 0.0451 - val_mean_absolute_error: 29293.2358\n",
            "\n",
            "Epoch 00059: val_loss did not improve from 0.04500\n",
            "Epoch 60/200\n",
            "1022/1022 [==============================] - 0s 66us/step - loss: 0.0475 - mean_absolute_error: 29765.2424 - val_loss: 0.0450 - val_mean_absolute_error: 29155.4567\n",
            "\n",
            "Epoch 00060: val_loss did not improve from 0.04500\n",
            "Epoch 61/200\n",
            "1022/1022 [==============================] - 0s 69us/step - loss: 0.0476 - mean_absolute_error: 29682.6661 - val_loss: 0.0451 - val_mean_absolute_error: 29278.0990\n",
            "\n",
            "Epoch 00061: val_loss did not improve from 0.04500\n",
            "Epoch 62/200\n",
            "1022/1022 [==============================] - 0s 87us/step - loss: 0.0475 - mean_absolute_error: 29841.1334 - val_loss: 0.0451 - val_mean_absolute_error: 29234.1904\n",
            "\n",
            "Epoch 00062: val_loss did not improve from 0.04500\n",
            "Epoch 63/200\n",
            "1022/1022 [==============================] - 0s 77us/step - loss: 0.0475 - mean_absolute_error: 29701.7493 - val_loss: 0.0450 - val_mean_absolute_error: 29144.4651\n",
            "\n",
            "Epoch 00063: val_loss did not improve from 0.04500\n",
            "\n",
            "Epoch 00063: ReduceLROnPlateau reducing learning rate to 0.0001.\n",
            "Epoch 64/200\n",
            "1022/1022 [==============================] - 0s 75us/step - loss: 0.0475 - mean_absolute_error: 29703.3324 - val_loss: 0.0451 - val_mean_absolute_error: 29237.0070\n",
            "\n",
            "Epoch 00064: val_loss did not improve from 0.04500\n",
            "Epoch 65/200\n",
            "1022/1022 [==============================] - 0s 74us/step - loss: 0.0474 - mean_absolute_error: 29771.4785 - val_loss: 0.0452 - val_mean_absolute_error: 29299.3984\n",
            "\n",
            "Epoch 00065: val_loss did not improve from 0.04500\n",
            "Epoch 66/200\n",
            "1022/1022 [==============================] - 0s 72us/step - loss: 0.0475 - mean_absolute_error: 29707.4918 - val_loss: 0.0450 - val_mean_absolute_error: 29102.5132\n",
            "\n",
            "Epoch 00066: val_loss did not improve from 0.04500\n",
            "Epoch 67/200\n",
            "1022/1022 [==============================] - 0s 80us/step - loss: 0.0474 - mean_absolute_error: 29700.1191 - val_loss: 0.0452 - val_mean_absolute_error: 29261.9600\n",
            "\n",
            "Epoch 00067: val_loss did not improve from 0.04500\n",
            "Epoch 68/200\n",
            "1022/1022 [==============================] - 0s 72us/step - loss: 0.0474 - mean_absolute_error: 29768.3484 - val_loss: 0.0452 - val_mean_absolute_error: 29321.6373\n",
            "\n",
            "Epoch 00068: val_loss did not improve from 0.04500\n",
            "Epoch 00068: early stopping\n"
          ],
          "name": "stdout"
        }
      ]
    },
    {
      "cell_type": "code",
      "metadata": {
        "id": "wbQpx8taIeFl",
        "colab_type": "code",
        "outputId": "c4db5610-b3d5-4dda-84a3-9e1b1ff5a4e0",
        "colab": {
          "base_uri": "https://localhost:8080/",
          "height": 295
        }
      },
      "source": [
        "drow_history(history, 'loss', 2)"
      ],
      "execution_count": 69,
      "outputs": [
        {
          "output_type": "display_data",
          "data": {
            "image/png": "[encoded data removed]",
            "text/plain": [
              "<Figure size 432x288 with 1 Axes>"
            ]
          },
          "metadata": {
            "tags": []
          }
        }
      ]
    },
    {
      "cell_type": "code",
      "metadata": {
        "id": "mqusPgIUIeFp",
        "colab_type": "code",
        "colab": {}
      },
      "source": [
        "#### Load the best model\n",
        "NN_model.load_weights('best_model_e200_b32_oadam_lr.h5')\n",
        "# Compile the network :\n",
        "NN_model.compile(loss='mean_squared_logarithmic_error', optimizer='adam', \n",
        "                 metrics=['mean_absolute_error'])"
      ],
      "execution_count": 0,
      "outputs": []
    },
    {
      "cell_type": "code",
      "metadata": {
        "id": "Z-W46GZ7IeFu",
        "colab_type": "code",
        "outputId": "4bcedb0f-753d-477c-dfd8-116e54c29e3f",
        "colab": {
          "base_uri": "https://localhost:8080/",
          "height": 52
        }
      },
      "source": [
        "score=NN_model.evaluate(X_test, y_test)\n",
        "score"
      ],
      "execution_count": 71,
      "outputs": [
        {
          "output_type": "stream",
          "text": [
            "438/438 [==============================] - 0s 487us/step\n"
          ],
          "name": "stdout"
        },
        {
          "output_type": "execute_result",
          "data": {
            "text/plain": [
              "[0.044999142419802, 29185.55433076484]"
            ]
          },
          "metadata": {
            "tags": []
          },
          "execution_count": 71
        }
      ]
    },
    {
      "cell_type": "code",
      "metadata": {
        "id": "sRkOgAi7IeFx",
        "colab_type": "code",
        "outputId": "951e39ad-2271-4253-8be8-868fd2e32477",
        "colab": {
          "base_uri": "https://localhost:8080/",
          "height": 52
        }
      },
      "source": [
        "score=NN_model.evaluate(train, target)\n",
        "score"
      ],
      "execution_count": 72,
      "outputs": [
        {
          "output_type": "stream",
          "text": [
            "1460/1460 [==============================] - 0s 57us/step\n"
          ],
          "name": "stdout"
        },
        {
          "output_type": "execute_result",
          "data": {
            "text/plain": [
              "[0.046786009744830326, 29585.20791416952]"
            ]
          },
          "metadata": {
            "tags": []
          },
          "execution_count": 72
        }
      ]
    },
    {
      "cell_type": "code",
      "metadata": {
        "id": "9FsMblAoIeF1",
        "colab_type": "code",
        "outputId": "9ade39d1-dfd2-4ac5-cb10-1c4783f98ef7",
        "colab": {
          "base_uri": "https://localhost:8080/",
          "height": 183
        }
      },
      "source": [
        "predictions = NN_model.predict(test)\n",
        "make_submission(predictions[:,0],'submission_oadam_lr')"
      ],
      "execution_count": 73,
      "outputs": [
        {
          "output_type": "error",
          "ename": "NameError",
          "evalue": "ignored",
          "traceback": [
            "\u001b[0;31m---------------------------------------------------------------------------\u001b[0m",
            "\u001b[0;31mNameError\u001b[0m                                 Traceback (most recent call last)",
            "\u001b[0;32m<ipython-input-73-74a88b818aba>\u001b[0m in \u001b[0;36m<module>\u001b[0;34m()\u001b[0m\n\u001b[1;32m      1\u001b[0m \u001b[0mpredictions\u001b[0m \u001b[0;34m=\u001b[0m \u001b[0mNN_model\u001b[0m\u001b[0;34m.\u001b[0m\u001b[0mpredict\u001b[0m\u001b[0;34m(\u001b[0m\u001b[0mtest\u001b[0m\u001b[0;34m)\u001b[0m\u001b[0;34m\u001b[0m\u001b[0;34m\u001b[0m\u001b[0m\n\u001b[0;32m----> 2\u001b[0;31m \u001b[0mmake_submission\u001b[0m\u001b[0;34m(\u001b[0m\u001b[0mpredictions\u001b[0m\u001b[0;34m[\u001b[0m\u001b[0;34m:\u001b[0m\u001b[0;34m,\u001b[0m\u001b[0;36m0\u001b[0m\u001b[0;34m]\u001b[0m\u001b[0;34m,\u001b[0m\u001b[0;34m'submission_oadam_lr'\u001b[0m\u001b[0;34m)\u001b[0m\u001b[0;34m\u001b[0m\u001b[0;34m\u001b[0m\u001b[0m\n\u001b[0m",
            "\u001b[0;31mNameError\u001b[0m: name 'make_submission' is not defined"
          ]
        }
      ]
    },
    {
      "cell_type": "markdown",
      "metadata": {
        "id": "zbbIMbwHIeF3",
        "colab_type": "text"
      },
      "source": [
        "* kaggle result  0.22401\n",
        "**********************************************************************************"
      ]
    },
    {
      "cell_type": "code",
      "metadata": {
        "id": "x_pPCZfCIeF7",
        "colab_type": "code",
        "outputId": "3a7a5ecc-1110-46ed-9b21-2cbd20212c77",
        "colab": {
          "base_uri": "https://localhost:8080/",
          "height": 295
        }
      },
      "source": [
        "np.random.seed(1235)\n",
        "    \n",
        "NN_model = Sequential()\n",
        "\n",
        "# The Input Layer :\n",
        "NN_model.add(Dense(64, kernel_initializer='normal',\n",
        "                       input_dim = train.shape[1], activation='relu'))\n",
        "\n",
        "# The Hidden Layers :\n",
        "NN_model.add(Dense(128, kernel_initializer='normal',activation='relu'))\n",
        "NN_model.add(Dense(128, kernel_initializer='normal',activation='relu'))\n",
        "\n",
        "#NN_model.add(Dropout(0.2))\n",
        "\n",
        "# The Output Layer :\n",
        "NN_model.add(Dense(1, kernel_initializer='normal',activation='linear'))\n",
        "    \n",
        "\n",
        "# mean_squared_logarithmic_error\n",
        "# mean_absolute_error\n",
        "# mean_squared_error\n",
        "\n",
        "\n",
        "# Compile the network :\n",
        "NN_model.compile(loss='mean_squared_logarithmic_error', optimizer='rmsprop', \n",
        "                 metrics=['mean_absolute_error'])\n",
        "NN_model.summary()"
      ],
      "execution_count": 111,
      "outputs": [
        {
          "output_type": "stream",
          "text": [
            "Model: \"sequential_15\"\n",
            "_________________________________________________________________\n",
            "Layer (type)                 Output Shape              Param #   \n",
            "=================================================================\n",
            "dense_63 (Dense)             (None, 64)                13760     \n",
            "_________________________________________________________________\n",
            "dense_64 (Dense)             (None, 128)               8320      \n",
            "_________________________________________________________________\n",
            "dense_65 (Dense)             (None, 128)               16512     \n",
            "_________________________________________________________________\n",
            "dense_66 (Dense)             (None, 1)                 129       \n",
            "=================================================================\n",
            "Total params: 38,721\n",
            "Trainable params: 38,721\n",
            "Non-trainable params: 0\n",
            "_________________________________________________________________\n"
          ],
          "name": "stdout"
        }
      ]
    },
    {
      "cell_type": "code",
      "metadata": {
        "id": "PlsTp5t-IeF9",
        "colab_type": "code",
        "outputId": "c68b417e-3d64-4eab-c955-85603cec88f2",
        "colab": {
          "base_uri": "https://localhost:8080/",
          "height": 1000
        }
      },
      "source": [
        "from keras.callbacks import EarlyStopping, ModelCheckpoint, ReduceLROnPlateau\n",
        "np.random.seed(1235)\n",
        "epochs = 200\n",
        "batch_size = 16\n",
        "\n",
        "reduce_lr = ReduceLROnPlateau(monitor='val_loss', factor=0.96,\n",
        "                              patience=5, min_lr=0.0007, verbose=1)\n",
        "\n",
        "checkpoint = ModelCheckpoint('best_model_e200_b32_rmsprop_net_128_512_512_512.h5', verbose=1, \n",
        "                             monitor='val_loss',\n",
        "                             save_best_only=True, mode='auto') \n",
        "\n",
        "early = EarlyStopping(monitor='val_loss',\n",
        "                              min_delta=0,\n",
        "                              patience=10,\n",
        "                              verbose=1, mode='auto')\n",
        "\n",
        "history = NN_model.fit(X_train, y_train,\n",
        "                    batch_size=batch_size,\n",
        "                    epochs=epochs,\n",
        "                    verbose=1,callbacks=[checkpoint, early, reduce_lr],\n",
        "                    validation_data=(X_test, y_test))"
      ],
      "execution_count": 152,
      "outputs": [
        {
          "output_type": "stream",
          "text": [
            "Train on 1022 samples, validate on 438 samples\n",
            "Epoch 1/200\n",
            "1022/1022 [==============================] - 1s 1ms/step - loss: 0.0171 - mean_absolute_error: 17355.6489 - val_loss: 0.0232 - val_mean_absolute_error: 19931.9982\n",
            "\n",
            "Epoch 00001: val_loss improved from inf to 0.02323, saving model to best_model_e200_b32_rmsprop_net_128_512_512_512.h5\n",
            "Epoch 2/200\n",
            "1022/1022 [==============================] - 0s 408us/step - loss: 0.0146 - mean_absolute_error: 16304.7749 - val_loss: 0.0246 - val_mean_absolute_error: 19198.6829\n",
            "\n",
            "Epoch 00002: val_loss did not improve from 0.02323\n",
            "Epoch 3/200\n",
            "1022/1022 [==============================] - 0s 386us/step - loss: 0.0159 - mean_absolute_error: 17224.7440 - val_loss: 0.0230 - val_mean_absolute_error: 18884.1149\n",
            "\n",
            "Epoch 00003: val_loss improved from 0.02323 to 0.02298, saving model to best_model_e200_b32_rmsprop_net_128_512_512_512.h5\n",
            "Epoch 4/200\n",
            "1022/1022 [==============================] - 0s 365us/step - loss: 0.0161 - mean_absolute_error: 17159.8252 - val_loss: 0.0212 - val_mean_absolute_error: 18484.1431\n",
            "\n",
            "Epoch 00004: val_loss improved from 0.02298 to 0.02117, saving model to best_model_e200_b32_rmsprop_net_128_512_512_512.h5\n",
            "Epoch 5/200\n",
            "1022/1022 [==============================] - 0s 370us/step - loss: 0.0166 - mean_absolute_error: 17495.1077 - val_loss: 0.0221 - val_mean_absolute_error: 18368.1167\n",
            "\n",
            "Epoch 00005: val_loss did not improve from 0.02117\n",
            "Epoch 6/200\n",
            "1022/1022 [==============================] - 0s 393us/step - loss: 0.0158 - mean_absolute_error: 17102.9972 - val_loss: 0.0281 - val_mean_absolute_error: 22944.8515\n",
            "\n",
            "Epoch 00006: val_loss did not improve from 0.02117\n",
            "Epoch 7/200\n",
            "1022/1022 [==============================] - 0s 380us/step - loss: 0.0146 - mean_absolute_error: 16103.2601 - val_loss: 0.0217 - val_mean_absolute_error: 18380.7694\n",
            "\n",
            "Epoch 00007: val_loss did not improve from 0.02117\n",
            "Epoch 8/200\n",
            "1022/1022 [==============================] - 0s 389us/step - loss: 0.0191 - mean_absolute_error: 18702.7070 - val_loss: 0.0296 - val_mean_absolute_error: 24594.5671\n",
            "\n",
            "Epoch 00008: val_loss did not improve from 0.02117\n",
            "Epoch 9/200\n",
            "1022/1022 [==============================] - 0s 366us/step - loss: 0.0205 - mean_absolute_error: 19430.9721 - val_loss: 0.0207 - val_mean_absolute_error: 18269.2108\n",
            "\n",
            "Epoch 00009: val_loss improved from 0.02117 to 0.02073, saving model to best_model_e200_b32_rmsprop_net_128_512_512_512.h5\n",
            "Epoch 10/200\n",
            "1022/1022 [==============================] - 0s 386us/step - loss: 0.0145 - mean_absolute_error: 16174.0708 - val_loss: 0.0204 - val_mean_absolute_error: 17773.9847\n",
            "\n",
            "Epoch 00010: val_loss improved from 0.02073 to 0.02039, saving model to best_model_e200_b32_rmsprop_net_128_512_512_512.h5\n",
            "Epoch 11/200\n",
            "1022/1022 [==============================] - 0s 359us/step - loss: 0.0149 - mean_absolute_error: 16453.8001 - val_loss: 0.0210 - val_mean_absolute_error: 17952.0463\n",
            "\n",
            "Epoch 00011: val_loss did not improve from 0.02039\n",
            "Epoch 12/200\n",
            "1022/1022 [==============================] - 0s 383us/step - loss: 0.0146 - mean_absolute_error: 16444.8350 - val_loss: 0.0216 - val_mean_absolute_error: 18462.1831\n",
            "\n",
            "Epoch 00012: val_loss did not improve from 0.02039\n",
            "Epoch 13/200\n",
            "1022/1022 [==============================] - 0s 363us/step - loss: 0.0160 - mean_absolute_error: 17284.1866 - val_loss: 0.0235 - val_mean_absolute_error: 18930.1459\n",
            "\n",
            "Epoch 00013: val_loss did not improve from 0.02039\n",
            "Epoch 14/200\n",
            "1022/1022 [==============================] - 0s 357us/step - loss: 0.0159 - mean_absolute_error: 17343.9150 - val_loss: 0.0201 - val_mean_absolute_error: 17726.1112\n",
            "\n",
            "Epoch 00014: val_loss improved from 0.02039 to 0.02008, saving model to best_model_e200_b32_rmsprop_net_128_512_512_512.h5\n",
            "Epoch 15/200\n",
            "1022/1022 [==============================] - 0s 400us/step - loss: 0.0144 - mean_absolute_error: 16472.6118 - val_loss: 0.0202 - val_mean_absolute_error: 17614.2039\n",
            "\n",
            "Epoch 00015: val_loss did not improve from 0.02008\n",
            "Epoch 16/200\n",
            "1022/1022 [==============================] - 0s 360us/step - loss: 0.0145 - mean_absolute_error: 16483.9381 - val_loss: 0.0219 - val_mean_absolute_error: 19707.6216\n",
            "\n",
            "Epoch 00016: val_loss did not improve from 0.02008\n",
            "Epoch 17/200\n",
            "1022/1022 [==============================] - 0s 388us/step - loss: 0.0146 - mean_absolute_error: 16499.6676 - val_loss: 0.0230 - val_mean_absolute_error: 19730.8320\n",
            "\n",
            "Epoch 00017: val_loss did not improve from 0.02008\n",
            "Epoch 18/200\n",
            "1022/1022 [==============================] - 0s 365us/step - loss: 0.0156 - mean_absolute_error: 17087.9588 - val_loss: 0.0248 - val_mean_absolute_error: 20304.4543\n",
            "\n",
            "Epoch 00018: val_loss did not improve from 0.02008\n",
            "Epoch 19/200\n",
            "1022/1022 [==============================] - 0s 362us/step - loss: 0.0152 - mean_absolute_error: 16519.5734 - val_loss: 0.0225 - val_mean_absolute_error: 20659.1553\n",
            "\n",
            "Epoch 00019: val_loss did not improve from 0.02008\n",
            "\n",
            "Epoch 00019: ReduceLROnPlateau reducing learning rate to 0.0009600000455975532.\n",
            "Epoch 20/200\n",
            "1022/1022 [==============================] - 0s 390us/step - loss: 0.0159 - mean_absolute_error: 17136.1240 - val_loss: 0.0200 - val_mean_absolute_error: 18175.4891\n",
            "\n",
            "Epoch 00020: val_loss improved from 0.02008 to 0.01998, saving model to best_model_e200_b32_rmsprop_net_128_512_512_512.h5\n",
            "Epoch 21/200\n",
            "1022/1022 [==============================] - 0s 365us/step - loss: 0.0136 - mean_absolute_error: 15598.6438 - val_loss: 0.0208 - val_mean_absolute_error: 17952.5997\n",
            "\n",
            "Epoch 00021: val_loss did not improve from 0.01998\n",
            "Epoch 22/200\n",
            "1022/1022 [==============================] - 0s 392us/step - loss: 0.0132 - mean_absolute_error: 15615.1803 - val_loss: 0.0193 - val_mean_absolute_error: 17828.4366\n",
            "\n",
            "Epoch 00022: val_loss improved from 0.01998 to 0.01933, saving model to best_model_e200_b32_rmsprop_net_128_512_512_512.h5\n",
            "Epoch 23/200\n",
            "1022/1022 [==============================] - 0s 375us/step - loss: 0.0138 - mean_absolute_error: 15931.9257 - val_loss: 0.0193 - val_mean_absolute_error: 17486.4993\n",
            "\n",
            "Epoch 00023: val_loss did not improve from 0.01933\n",
            "Epoch 24/200\n",
            "1022/1022 [==============================] - 0s 395us/step - loss: 0.0146 - mean_absolute_error: 16625.5864 - val_loss: 0.0241 - val_mean_absolute_error: 20539.7230\n",
            "\n",
            "Epoch 00024: val_loss did not improve from 0.01933\n",
            "Epoch 25/200\n",
            "1022/1022 [==============================] - 0s 382us/step - loss: 0.0147 - mean_absolute_error: 16405.8157 - val_loss: 0.0212 - val_mean_absolute_error: 18588.1709\n",
            "\n",
            "Epoch 00025: val_loss did not improve from 0.01933\n",
            "Epoch 26/200\n",
            "1022/1022 [==============================] - 0s 381us/step - loss: 0.0145 - mean_absolute_error: 16159.4433 - val_loss: 0.0214 - val_mean_absolute_error: 19333.9196\n",
            "\n",
            "Epoch 00026: val_loss did not improve from 0.01933\n",
            "Epoch 27/200\n",
            "1022/1022 [==============================] - 0s 382us/step - loss: 0.0133 - mean_absolute_error: 15594.1582 - val_loss: 0.0227 - val_mean_absolute_error: 18655.2149\n",
            "\n",
            "Epoch 00027: val_loss did not improve from 0.01933\n",
            "\n",
            "Epoch 00027: ReduceLROnPlateau reducing learning rate to 0.0009216000325977802.\n",
            "Epoch 28/200\n",
            "1022/1022 [==============================] - 0s 363us/step - loss: 0.0127 - mean_absolute_error: 15563.2742 - val_loss: 0.0209 - val_mean_absolute_error: 18084.6751\n",
            "\n",
            "Epoch 00028: val_loss did not improve from 0.01933\n",
            "Epoch 29/200\n",
            "1022/1022 [==============================] - 0s 380us/step - loss: 0.0183 - mean_absolute_error: 17692.1429 - val_loss: 0.0203 - val_mean_absolute_error: 18216.3281\n",
            "\n",
            "Epoch 00029: val_loss did not improve from 0.01933\n",
            "Epoch 30/200\n",
            "1022/1022 [==============================] - 0s 370us/step - loss: 0.0158 - mean_absolute_error: 16748.2274 - val_loss: 0.0275 - val_mean_absolute_error: 20831.6863\n",
            "\n",
            "Epoch 00030: val_loss did not improve from 0.01933\n",
            "Epoch 31/200\n",
            "1022/1022 [==============================] - 0s 391us/step - loss: 0.0147 - mean_absolute_error: 16370.9554 - val_loss: 0.0200 - val_mean_absolute_error: 17602.4387\n",
            "\n",
            "Epoch 00031: val_loss did not improve from 0.01933\n",
            "Epoch 32/200\n",
            "1022/1022 [==============================] - 0s 378us/step - loss: 0.0133 - mean_absolute_error: 15791.0355 - val_loss: 0.0241 - val_mean_absolute_error: 20695.0687\n",
            "\n",
            "Epoch 00032: val_loss did not improve from 0.01933\n",
            "\n",
            "Epoch 00032: ReduceLROnPlateau reducing learning rate to 0.000884736031293869.\n",
            "Epoch 00032: early stopping\n"
          ],
          "name": "stdout"
        }
      ]
    },
    {
      "cell_type": "code",
      "metadata": {
        "scrolled": true,
        "id": "spztihOcIeF_",
        "colab_type": "code",
        "outputId": "652ac311-9cc1-4542-a401-841cd9a2f729",
        "colab": {
          "base_uri": "https://localhost:8080/",
          "height": 295
        }
      },
      "source": [
        "drow_history(history, 'loss', 1)"
      ],
      "execution_count": 153,
      "outputs": [
        {
          "output_type": "display_data",
          "data": {
            "image/png": "[encoded data removed]",
            "text/plain": [
              "<Figure size 432x288 with 1 Axes>"
            ]
          },
          "metadata": {
            "tags": []
          }
        }
      ]
    },
    {
      "cell_type": "code",
      "metadata": {
        "id": "zi9y9lXvIeGB",
        "colab_type": "code",
        "colab": {}
      },
      "source": [
        "#### Load the best model\n",
        "NN_model.load_weights('best_model_e200_b32_rmsprop_net_128_512_512_512.h5')\n",
        "# Compile the network :\n",
        "NN_model.compile(loss='mean_squared_logarithmic_error', optimizer='adam', \n",
        "                 metrics=['mean_absolute_error'])"
      ],
      "execution_count": 0,
      "outputs": []
    },
    {
      "cell_type": "code",
      "metadata": {
        "id": "-3WHsqw8IeGD",
        "colab_type": "code",
        "outputId": "05961925-fd1d-4740-fde9-09df2238cfe6",
        "colab": {
          "base_uri": "https://localhost:8080/",
          "height": 52
        }
      },
      "source": [
        "score=NN_model.evaluate(X_test, y_test)\n",
        "score"
      ],
      "execution_count": 155,
      "outputs": [
        {
          "output_type": "stream",
          "text": [
            "438/438 [==============================] - 1s 2ms/step\n"
          ],
          "name": "stdout"
        },
        {
          "output_type": "execute_result",
          "data": {
            "text/plain": [
              "[0.0193272555017308, 17828.436831121577]"
            ]
          },
          "metadata": {
            "tags": []
          },
          "execution_count": 155
        }
      ]
    },
    {
      "cell_type": "code",
      "metadata": {
        "id": "d6wmLkA4IeGG",
        "colab_type": "code",
        "outputId": "8636180c-e6f8-4cdd-fe6b-4725e3fbb1f5",
        "colab": {
          "base_uri": "https://localhost:8080/",
          "height": 52
        }
      },
      "source": [
        "score=NN_model.evaluate(train, target)\n",
        "score"
      ],
      "execution_count": 156,
      "outputs": [
        {
          "output_type": "stream",
          "text": [
            "1460/1460 [==============================] - 0s 63us/step\n"
          ],
          "name": "stdout"
        },
        {
          "output_type": "execute_result",
          "data": {
            "text/plain": [
              "[0.014480698522027225, 15994.051776541095]"
            ]
          },
          "metadata": {
            "tags": []
          },
          "execution_count": 156
        }
      ]
    },
    {
      "cell_type": "code",
      "metadata": {
        "id": "OQqWn96vIQ0Y",
        "colab_type": "code",
        "colab": {}
      },
      "source": [
        "def make_submission(prediction, sub_name):\n",
        "    my_submission = pd.DataFrame({'Id':pd.read_csv('test.csv').Id,'SalePrice':prediction})\n",
        "    my_submission.to_csv('{}.csv'.format(sub_name),index=False)\n",
        "    print('A submission file has been made')"
      ],
      "execution_count": 0,
      "outputs": []
    },
    {
      "cell_type": "code",
      "metadata": {
        "id": "VwzX7U4DIeGK",
        "colab_type": "code",
        "outputId": "1dabcc12-5caa-4046-8e9d-9b4483217d67",
        "colab": {
          "base_uri": "https://localhost:8080/",
          "height": 35
        }
      },
      "source": [
        "predictions = NN_model.predict(test)\n",
        "make_submission(predictions[:,0],'submission_rmsprop')"
      ],
      "execution_count": 158,
      "outputs": [
        {
          "output_type": "stream",
          "text": [
            "A submission file has been made\n"
          ],
          "name": "stdout"
        }
      ]
    },
    {
      "cell_type": "code",
      "metadata": {
        "id": "FtEuodWiCx-9",
        "colab_type": "code",
        "colab": {
          "base_uri": "https://localhost:8080/",
          "height": 208
        },
        "outputId": "3c4940f2-72be-4fa8-ad24-f58b8a117583"
      },
      "source": [
        "!ls"
      ],
      "execution_count": 139,
      "outputs": [
        {
          "output_type": "stream",
          "text": [
            "best_model_e200_b16_rmsprop_net_264_512_512.h5\n",
            "best_model_e200_b32_oAdam.h5\n",
            "best_model_e200_b32_oadam_lr.h5\n",
            "best_model_e200_b32_rmsprop_net_128_512_512_512.h5\n",
            "data_description.txt\n",
            "sample_data\n",
            "sample_submission.csv\n",
            "submission_oAdam.csv\n",
            "submission_rmsprop_net_128_512_512_512.csv\n",
            "test.csv\n",
            "train.csv\n"
          ],
          "name": "stdout"
        }
      ]
    },
    {
      "cell_type": "code",
      "metadata": {
        "id": "X0nSloWvB1Qe",
        "colab_type": "code",
        "colab": {}
      },
      "source": [
        "from google.colab import files\n",
        "files.download('submission_rmsprop.csv') "
      ],
      "execution_count": 0,
      "outputs": []
    },
    {
      "cell_type": "code",
      "metadata": {
        "id": "2ZwixpC1wuNW",
        "colab_type": "code",
        "colab": {}
      },
      "source": [
        "##########################################################################################3"
      ],
      "execution_count": 0,
      "outputs": []
    },
    {
      "cell_type": "markdown",
      "metadata": {
        "id": "OOe3ReypIeGN",
        "colab_type": "text"
      },
      "source": [
        "* Result 0.20622\n",
        "\n",
        "******************************************************************"
      ]
    },
    {
      "cell_type": "markdown",
      "metadata": {
        "id": "v7KmzaByIeGO",
        "colab_type": "text"
      },
      "source": [
        "* Enlarge the first Layer\n",
        "* Drop the last Layer\n",
        "* reduce batch size"
      ]
    },
    {
      "cell_type": "code",
      "metadata": {
        "id": "sr1HOqCtIeGP",
        "colab_type": "code",
        "outputId": "e152d187-1628-4422-ca73-6590ee989897",
        "colab": {
          "base_uri": "https://localhost:8080/",
          "height": 329
        }
      },
      "source": [
        "np.random.seed(1235)\n",
        "    \n",
        "NN_model = Sequential()\n",
        "\n",
        "# The Input Layer :\n",
        "NN_model.add(Dense(264, kernel_initializer='normal',\n",
        "                       input_dim = train.shape[1], activation='relu'))\n",
        "\n",
        "# The Hidden Layers :\n",
        "NN_model.add(Dense(512, kernel_initializer='normal',activation='relu'))\n",
        "NN_model.add(Dense(512, kernel_initializer='normal',activation='relu'))\n",
        "NN_model.add(Dense(512, kernel_initializer='normal',activation='relu'))\n",
        "\n",
        "# The Output Layer :\n",
        "NN_model.add(Dense(1, kernel_initializer='normal',activation='linear'))\n",
        "\n",
        "\n",
        "# mean_squared_logarithmic_error\n",
        "# mean_absolute_error\n",
        "# mean_squared_error\n",
        "\n",
        "\n",
        "# Compile the network :\n",
        "NN_model.compile(loss='mean_squared_logarithmic_error', optimizer='rmsprop', \n",
        "                 metrics=['mean_absolute_error'])\n",
        "NN_model.summary()"
      ],
      "execution_count": 87,
      "outputs": [
        {
          "output_type": "stream",
          "text": [
            "Model: \"sequential_8\"\n",
            "_________________________________________________________________\n",
            "Layer (type)                 Output Shape              Param #   \n",
            "=================================================================\n",
            "dense_33 (Dense)             (None, 264)               56760     \n",
            "_________________________________________________________________\n",
            "dense_34 (Dense)             (None, 512)               135680    \n",
            "_________________________________________________________________\n",
            "dense_35 (Dense)             (None, 512)               262656    \n",
            "_________________________________________________________________\n",
            "dense_36 (Dense)             (None, 512)               262656    \n",
            "_________________________________________________________________\n",
            "dense_37 (Dense)             (None, 1)                 513       \n",
            "=================================================================\n",
            "Total params: 718,265\n",
            "Trainable params: 718,265\n",
            "Non-trainable params: 0\n",
            "_________________________________________________________________\n"
          ],
          "name": "stdout"
        }
      ]
    },
    {
      "cell_type": "code",
      "metadata": {
        "id": "UzSTbUq8IeGS",
        "colab_type": "code",
        "outputId": "6a4ad0cf-b8d9-4e40-d93f-3406822eb08b",
        "colab": {
          "base_uri": "https://localhost:8080/",
          "height": 904
        }
      },
      "source": [
        "from keras.callbacks import EarlyStopping, ModelCheckpoint, ReduceLROnPlateau\n",
        "np.random.seed(1235)\n",
        "epochs = 200\n",
        "batch_size = 32\n",
        "\n",
        "reduce_lr = ReduceLROnPlateau(monitor='val_loss', factor=0.5,\n",
        "                              patience=5, min_lr=0.00001, verbose=1)\n",
        "\n",
        "checkpoint = ModelCheckpoint('best_model_e200_b16_rmsprop_net_264_512_512.h5', verbose=1, \n",
        "                             monitor='val_loss',\n",
        "                             save_best_only=True, mode='auto') \n",
        "\n",
        "early = EarlyStopping(monitor='val_loss',\n",
        "                              min_delta=0,\n",
        "                              patience=10,\n",
        "                              verbose=1, mode='auto')\n",
        "\n",
        "history = NN_model.fit(X_train, y_train,\n",
        "                    batch_size=batch_size,\n",
        "                    epochs=epochs,\n",
        "                    verbose=1,callbacks=[checkpoint, early, reduce_lr],\n",
        "                    validation_data=(X_test, y_test))"
      ],
      "execution_count": 88,
      "outputs": [
        {
          "output_type": "stream",
          "text": [
            "Train on 1022 samples, validate on 438 samples\n",
            "Epoch 1/200\n",
            "1022/1022 [==============================] - 1s 819us/step - loss: 144.8494 - mean_absolute_error: 181475.8679 - val_loss: 144.2939 - val_mean_absolute_error: 180164.1070\n",
            "\n",
            "Epoch 00001: val_loss improved from inf to 144.29394, saving model to best_model_e200_b16_rmsprop_net_264_512_512.h5\n",
            "Epoch 2/200\n",
            "1022/1022 [==============================] - 0s 218us/step - loss: 144.8494 - mean_absolute_error: 181475.8704 - val_loss: 144.2939 - val_mean_absolute_error: 180164.1070\n",
            "\n",
            "Epoch 00002: val_loss did not improve from 144.29394\n",
            "Epoch 3/200\n",
            "1022/1022 [==============================] - 0s 207us/step - loss: 144.8494 - mean_absolute_error: 181475.8672 - val_loss: 144.2939 - val_mean_absolute_error: 180164.1070\n",
            "\n",
            "Epoch 00003: val_loss did not improve from 144.29394\n",
            "Epoch 4/200\n",
            "1022/1022 [==============================] - 0s 205us/step - loss: 144.8494 - mean_absolute_error: 181475.8683 - val_loss: 144.2939 - val_mean_absolute_error: 180164.1070\n",
            "\n",
            "Epoch 00004: val_loss did not improve from 144.29394\n",
            "Epoch 5/200\n",
            "1022/1022 [==============================] - 0s 212us/step - loss: 144.8494 - mean_absolute_error: 181475.8670 - val_loss: 144.2939 - val_mean_absolute_error: 180164.1070\n",
            "\n",
            "Epoch 00005: val_loss did not improve from 144.29394\n",
            "Epoch 6/200\n",
            "1022/1022 [==============================] - 0s 203us/step - loss: 144.8494 - mean_absolute_error: 181475.8707 - val_loss: 144.2939 - val_mean_absolute_error: 180164.1070\n",
            "\n",
            "Epoch 00006: val_loss did not improve from 144.29394\n",
            "\n",
            "Epoch 00006: ReduceLROnPlateau reducing learning rate to 0.0005000000237487257.\n",
            "Epoch 7/200\n",
            "1022/1022 [==============================] - 0s 200us/step - loss: 144.8494 - mean_absolute_error: 181475.8694 - val_loss: 144.2939 - val_mean_absolute_error: 180164.1070\n",
            "\n",
            "Epoch 00007: val_loss did not improve from 144.29394\n",
            "Epoch 8/200\n",
            "1022/1022 [==============================] - 0s 206us/step - loss: 144.8494 - mean_absolute_error: 181475.8700 - val_loss: 144.2939 - val_mean_absolute_error: 180164.1070\n",
            "\n",
            "Epoch 00008: val_loss did not improve from 144.29394\n",
            "Epoch 9/200\n",
            "1022/1022 [==============================] - 0s 204us/step - loss: 144.8494 - mean_absolute_error: 181475.8704 - val_loss: 144.2939 - val_mean_absolute_error: 180164.1070\n",
            "\n",
            "Epoch 00009: val_loss did not improve from 144.29394\n",
            "Epoch 10/200\n",
            "1022/1022 [==============================] - 0s 206us/step - loss: 144.8494 - mean_absolute_error: 181475.8682 - val_loss: 144.2939 - val_mean_absolute_error: 180164.1070\n",
            "\n",
            "Epoch 00010: val_loss did not improve from 144.29394\n",
            "Epoch 11/200\n",
            "1022/1022 [==============================] - 0s 209us/step - loss: 144.8494 - mean_absolute_error: 181475.8689 - val_loss: 144.2939 - val_mean_absolute_error: 180164.1070\n",
            "\n",
            "Epoch 00011: val_loss did not improve from 144.29394\n",
            "\n",
            "Epoch 00011: ReduceLROnPlateau reducing learning rate to 0.0002500000118743628.\n",
            "Epoch 00011: early stopping\n"
          ],
          "name": "stdout"
        }
      ]
    },
    {
      "cell_type": "code",
      "metadata": {
        "scrolled": true,
        "id": "90YnajHzIeGV",
        "colab_type": "code",
        "outputId": "fae51a0d-daa0-4175-9fc0-61853416d29b",
        "colab": {
          "base_uri": "https://localhost:8080/",
          "height": 295
        }
      },
      "source": [
        "drow_history(history, 'loss', 1)"
      ],
      "execution_count": 89,
      "outputs": [
        {
          "output_type": "display_data",
          "data": {
            "image/png": "[encoded data removed]",
            "text/plain": [
              "<Figure size 432x288 with 1 Axes>"
            ]
          },
          "metadata": {
            "tags": []
          }
        }
      ]
    },
    {
      "cell_type": "code",
      "metadata": {
        "id": "qLPKF_b4IeGW",
        "colab_type": "code",
        "colab": {}
      },
      "source": [
        "#### Load the best model\n",
        "NN_model.load_weights('best_model_e200_b16_rmsprop_net_264_512_512.h5')\n",
        "# Compile the network :\n",
        "NN_model.compile(loss='mean_squared_logarithmic_error', optimizer='adam', \n",
        "                 metrics=['mean_absolute_error'])"
      ],
      "execution_count": 0,
      "outputs": []
    },
    {
      "cell_type": "code",
      "metadata": {
        "id": "OGAVD3N7IeGY",
        "colab_type": "code",
        "outputId": "1d9a991e-7410-494e-eeae-1a24bf9ecda4",
        "colab": {
          "base_uri": "https://localhost:8080/",
          "height": 52
        }
      },
      "source": [
        "score=NN_model.evaluate(X_test, y_test)\n",
        "score"
      ],
      "execution_count": 66,
      "outputs": [
        {
          "output_type": "stream",
          "text": [
            "438/438 [==============================] - 0s 939us/step\n"
          ],
          "name": "stdout"
        },
        {
          "output_type": "execute_result",
          "data": {
            "text/plain": [
              "[0.034338403697291464, 23911.69734589041]"
            ]
          },
          "metadata": {
            "tags": []
          },
          "execution_count": 66
        }
      ]
    },
    {
      "cell_type": "code",
      "metadata": {
        "id": "slENdqOvIeGb",
        "colab_type": "code",
        "outputId": "ccf89612-3e9d-48b1-808c-9d03ff5ac3ce",
        "colab": {
          "base_uri": "https://localhost:8080/",
          "height": 52
        }
      },
      "source": [
        "score=NN_model.evaluate(X_test, y_test)\n",
        "score"
      ],
      "execution_count": 67,
      "outputs": [
        {
          "output_type": "stream",
          "text": [
            "438/438 [==============================] - 0s 70us/step\n"
          ],
          "name": "stdout"
        },
        {
          "output_type": "execute_result",
          "data": {
            "text/plain": [
              "[0.034338403697291464, 23911.69734589041]"
            ]
          },
          "metadata": {
            "tags": []
          },
          "execution_count": 67
        }
      ]
    },
    {
      "cell_type": "code",
      "metadata": {
        "id": "NfHg1BJVIeGc",
        "colab_type": "code",
        "outputId": "02f18465-b925-4a48-e98d-09756fce7751",
        "colab": {
          "base_uri": "https://localhost:8080/",
          "height": 52
        }
      },
      "source": [
        "score=NN_model.evaluate(train, target)\n",
        "score"
      ],
      "execution_count": 68,
      "outputs": [
        {
          "output_type": "stream",
          "text": [
            "1460/1460 [==============================] - 0s 60us/step\n"
          ],
          "name": "stdout"
        },
        {
          "output_type": "execute_result",
          "data": {
            "text/plain": [
              "[0.03349062802448664, 23801.95816566781]"
            ]
          },
          "metadata": {
            "tags": []
          },
          "execution_count": 68
        }
      ]
    },
    {
      "cell_type": "code",
      "metadata": {
        "id": "-CZNobAOIeGf",
        "colab_type": "code",
        "outputId": "4bddf6d4-0971-4d95-9e69-fc4f50c43faa",
        "colab": {
          "base_uri": "https://localhost:8080/",
          "height": 52
        }
      },
      "source": [
        "score=NN_model.evaluate(train, target)\n",
        "score"
      ],
      "execution_count": 69,
      "outputs": [
        {
          "output_type": "stream",
          "text": [
            "1460/1460 [==============================] - 0s 56us/step\n"
          ],
          "name": "stdout"
        },
        {
          "output_type": "execute_result",
          "data": {
            "text/plain": [
              "[0.03349062802448664, 23801.95816566781]"
            ]
          },
          "metadata": {
            "tags": []
          },
          "execution_count": 69
        }
      ]
    },
    {
      "cell_type": "code",
      "metadata": {
        "id": "BjdMpggfIeGh",
        "colab_type": "code",
        "outputId": "ca5c2708-3e03-4b33-d2ee-6c80372656b1",
        "colab": {
          "base_uri": "https://localhost:8080/",
          "height": 35
        }
      },
      "source": [
        "y_test_pred = NN_model.predict(X_test)\n",
        "from sklearn.metrics import mean_squared_log_error\n",
        "\n",
        "mean_squared_log_error(y_test, y_test_pred)"
      ],
      "execution_count": 70,
      "outputs": [
        {
          "output_type": "execute_result",
          "data": {
            "text/plain": [
              "0.03433840313383236"
            ]
          },
          "metadata": {
            "tags": []
          },
          "execution_count": 70
        }
      ]
    },
    {
      "cell_type": "code",
      "metadata": {
        "id": "Hx20PgqtIeGj",
        "colab_type": "code",
        "outputId": "66f477f5-af16-4616-ecae-12f538eb7b3b",
        "colab": {
          "base_uri": "https://localhost:8080/",
          "height": 35
        }
      },
      "source": [
        "predictions = NN_model.predict(test)\n",
        "make_submission(predictions[:,0],'submission_rmsprop_net_264_512_512')"
      ],
      "execution_count": 71,
      "outputs": [
        {
          "output_type": "stream",
          "text": [
            "A submission file has been made\n"
          ],
          "name": "stdout"
        }
      ]
    },
    {
      "cell_type": "code",
      "metadata": {
        "id": "T6it-vI5xYfH",
        "colab_type": "code",
        "colab": {}
      },
      "source": [
        "##***********************************************************8"
      ],
      "execution_count": 0,
      "outputs": []
    },
    {
      "cell_type": "code",
      "metadata": {
        "id": "KTEm2-G9xbp5",
        "colab_type": "code",
        "colab": {}
      },
      "source": [
        "from google.colab import files\n",
        "files.download('submission_oAdam.csv') "
      ],
      "execution_count": 0,
      "outputs": []
    },
    {
      "cell_type": "markdown",
      "metadata": {
        "id": "ATbOTADiIeGm",
        "colab_type": "text"
      },
      "source": [
        "* result 0.19681"
      ]
    },
    {
      "cell_type": "code",
      "metadata": {
        "id": "qGhySt77IeGm",
        "colab_type": "code",
        "colab": {}
      },
      "source": [
        "## NextLSTM and time series"
      ],
      "execution_count": 0,
      "outputs": []
    },
    {
      "cell_type": "code",
      "metadata": {
        "id": "MI1RnSi9O9Rg",
        "colab_type": "code",
        "colab": {}
      },
      "source": [
        "https://www.youtube.com/watch?v=ftMq5ps503w\n",
        "https://www.youtube.com/watch?v=9zhrxE5PQgY&t=44s\n",
        "https://github.com/llSourcell/How-to-Predict-Stock-Prices-Easily-Demo/blob/master/stockdemo.ipynb"
      ],
      "execution_count": 0,
      "outputs": []
    },
    {
      "cell_type": "markdown",
      "metadata": {
        "id": "qY6s6yFKO5U9",
        "colab_type": "text"
      },
      "source": [
        ""
      ]
    }
  ]
}